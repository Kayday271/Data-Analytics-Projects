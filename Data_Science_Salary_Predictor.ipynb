{
 "cells": [
  {
   "cell_type": "code",
   "execution_count": 134,
   "id": "e45908a6",
   "metadata": {},
   "outputs": [],
   "source": [
    "import pandas as pd\n",
    "import numpy as np\n",
    "import nltk\n",
    "from sklearn.neighbors import KNeighborsClassifier\n",
    "from sklearn.model_selection import train_test_split\n",
    "from sklearn.metrics import confusion_matrix, ConfusionMatrixDisplay\n",
    "from sklearn import tree\n",
    "from sklearn.linear_model import LogisticRegression\n",
    "from sklearn import svm\n",
    "from sklearn.naive_bayes import GaussianNB\n",
    "from sklearn.metrics.pairwise import cosine_similarity\n",
    "from sklearn.model_selection import KFold\n",
    "from sklearn.metrics import PrecisionRecallDisplay\n",
    "import matplotlib.pyplot as plt\n",
    "from sklearn.metrics import precision_recall_curve\n",
    "from sklearn.metrics import plot_precision_recall_curve\n",
    "from matplotlib import rcParams\n",
    "from scipy.stats import ttest_ind\n",
    "from sklearn.model_selection import cross_val_score\n",
    "import seaborn as sns\n",
    "import enchant\n",
    "d = enchant.Dict(\"en_US\")"
   ]
  },
  {
   "cell_type": "code",
   "execution_count": 2,
   "id": "2a0fc139",
   "metadata": {},
   "outputs": [],
   "source": [
    "df = pd.read_csv(\"Downloads/DataScientist.csv\")"
   ]
  },
  {
   "cell_type": "code",
   "execution_count": 3,
   "id": "31c7b70f",
   "metadata": {},
   "outputs": [],
   "source": [
    "df = df.rename(columns = {\"Salary Estimate\": \"Salary\"})"
   ]
  },
  {
   "cell_type": "code",
   "execution_count": 4,
   "id": "cf72e44b",
   "metadata": {},
   "outputs": [],
   "source": [
    "for i in range(df.shape[0]):\n",
    "    df.loc[i, 'Salary'] = df.loc[i, 'Salary'].replace(' (Glassdoor est.)', '')\n",
    "    df.loc[i, 'Salary'] = df.loc[i, 'Salary'].replace('(Glassdoor est.)', '')\n",
    "    df.loc[i, 'Salary'] = df.loc[i, 'Salary'].replace('(Employer est.)', '')\n",
    "    df.loc[i, 'Salary'] = df.loc[i, 'Salary'].replace(' (Employer est.)', '')\n",
    "    "
   ]
  },
  {
   "cell_type": "code",
   "execution_count": 5,
   "id": "2d742ad5",
   "metadata": {
    "scrolled": false
   },
   "outputs": [
    {
     "data": {
      "text/html": [
       "<div>\n",
       "<style scoped>\n",
       "    .dataframe tbody tr th:only-of-type {\n",
       "        vertical-align: middle;\n",
       "    }\n",
       "\n",
       "    .dataframe tbody tr th {\n",
       "        vertical-align: top;\n",
       "    }\n",
       "\n",
       "    .dataframe thead th {\n",
       "        text-align: right;\n",
       "    }\n",
       "</style>\n",
       "<table border=\"1\" class=\"dataframe\">\n",
       "  <thead>\n",
       "    <tr style=\"text-align: right;\">\n",
       "      <th></th>\n",
       "      <th>Unnamed: 0</th>\n",
       "      <th>index</th>\n",
       "      <th>Job Title</th>\n",
       "      <th>Salary</th>\n",
       "      <th>Job Description</th>\n",
       "      <th>Rating</th>\n",
       "      <th>Company Name</th>\n",
       "      <th>Location</th>\n",
       "      <th>Headquarters</th>\n",
       "      <th>Size</th>\n",
       "      <th>Founded</th>\n",
       "      <th>Type of ownership</th>\n",
       "      <th>Industry</th>\n",
       "      <th>Sector</th>\n",
       "      <th>Revenue</th>\n",
       "      <th>Competitors</th>\n",
       "      <th>Easy Apply</th>\n",
       "    </tr>\n",
       "  </thead>\n",
       "  <tbody>\n",
       "    <tr>\n",
       "      <th>0</th>\n",
       "      <td>0</td>\n",
       "      <td>0</td>\n",
       "      <td>Senior Data Scientist</td>\n",
       "      <td>$111K-$181K</td>\n",
       "      <td>ABOUT HOPPER\\n\\nAt Hopper, we’re on a mission ...</td>\n",
       "      <td>3.5</td>\n",
       "      <td>Hopper\\n3.5</td>\n",
       "      <td>New York, NY</td>\n",
       "      <td>Montreal, Canada</td>\n",
       "      <td>501 to 1000 employees</td>\n",
       "      <td>2007</td>\n",
       "      <td>Company - Private</td>\n",
       "      <td>Travel Agencies</td>\n",
       "      <td>Travel &amp; Tourism</td>\n",
       "      <td>Unknown / Non-Applicable</td>\n",
       "      <td>-1</td>\n",
       "      <td>-1</td>\n",
       "    </tr>\n",
       "    <tr>\n",
       "      <th>1</th>\n",
       "      <td>1</td>\n",
       "      <td>1</td>\n",
       "      <td>Data Scientist, Product Analytics</td>\n",
       "      <td>$111K-$181K</td>\n",
       "      <td>At Noom, we use scientifically proven methods ...</td>\n",
       "      <td>4.5</td>\n",
       "      <td>Noom US\\n4.5</td>\n",
       "      <td>New York, NY</td>\n",
       "      <td>New York, NY</td>\n",
       "      <td>1001 to 5000 employees</td>\n",
       "      <td>2008</td>\n",
       "      <td>Company - Private</td>\n",
       "      <td>Health, Beauty, &amp; Fitness</td>\n",
       "      <td>Consumer Services</td>\n",
       "      <td>Unknown / Non-Applicable</td>\n",
       "      <td>-1</td>\n",
       "      <td>-1</td>\n",
       "    </tr>\n",
       "    <tr>\n",
       "      <th>2</th>\n",
       "      <td>2</td>\n",
       "      <td>2</td>\n",
       "      <td>Data Science Manager</td>\n",
       "      <td>$111K-$181K</td>\n",
       "      <td>Decode_M\\n\\nhttps://www.decode-m.com/\\n\\nData ...</td>\n",
       "      <td>-1.0</td>\n",
       "      <td>Decode_M</td>\n",
       "      <td>New York, NY</td>\n",
       "      <td>New York, NY</td>\n",
       "      <td>1 to 50 employees</td>\n",
       "      <td>-1</td>\n",
       "      <td>Unknown</td>\n",
       "      <td>-1</td>\n",
       "      <td>-1</td>\n",
       "      <td>Unknown / Non-Applicable</td>\n",
       "      <td>-1</td>\n",
       "      <td>True</td>\n",
       "    </tr>\n",
       "    <tr>\n",
       "      <th>3</th>\n",
       "      <td>3</td>\n",
       "      <td>3</td>\n",
       "      <td>Data Analyst</td>\n",
       "      <td>$111K-$181K</td>\n",
       "      <td>Sapphire Digital seeks a dynamic and driven mi...</td>\n",
       "      <td>3.4</td>\n",
       "      <td>Sapphire Digital\\n3.4</td>\n",
       "      <td>Lyndhurst, NJ</td>\n",
       "      <td>Lyndhurst, NJ</td>\n",
       "      <td>201 to 500 employees</td>\n",
       "      <td>2019</td>\n",
       "      <td>Company - Private</td>\n",
       "      <td>Internet</td>\n",
       "      <td>Information Technology</td>\n",
       "      <td>Unknown / Non-Applicable</td>\n",
       "      <td>Zocdoc, Healthgrades</td>\n",
       "      <td>-1</td>\n",
       "    </tr>\n",
       "    <tr>\n",
       "      <th>4</th>\n",
       "      <td>4</td>\n",
       "      <td>4</td>\n",
       "      <td>Director, Data Science</td>\n",
       "      <td>$111K-$181K</td>\n",
       "      <td>Director, Data Science - (200537)\\nDescription...</td>\n",
       "      <td>3.4</td>\n",
       "      <td>United Entertainment Group\\n3.4</td>\n",
       "      <td>New York, NY</td>\n",
       "      <td>New York, NY</td>\n",
       "      <td>51 to 200 employees</td>\n",
       "      <td>2007</td>\n",
       "      <td>Company - Private</td>\n",
       "      <td>Advertising &amp; Marketing</td>\n",
       "      <td>Business Services</td>\n",
       "      <td>Unknown / Non-Applicable</td>\n",
       "      <td>BBDO, Grey Group, Droga5</td>\n",
       "      <td>-1</td>\n",
       "    </tr>\n",
       "  </tbody>\n",
       "</table>\n",
       "</div>"
      ],
      "text/plain": [
       "   Unnamed: 0  index                          Job Title       Salary  \\\n",
       "0           0      0              Senior Data Scientist  $111K-$181K   \n",
       "1           1      1  Data Scientist, Product Analytics  $111K-$181K   \n",
       "2           2      2               Data Science Manager  $111K-$181K   \n",
       "3           3      3                       Data Analyst  $111K-$181K   \n",
       "4           4      4             Director, Data Science  $111K-$181K   \n",
       "\n",
       "                                     Job Description  Rating  \\\n",
       "0  ABOUT HOPPER\\n\\nAt Hopper, we’re on a mission ...     3.5   \n",
       "1  At Noom, we use scientifically proven methods ...     4.5   \n",
       "2  Decode_M\\n\\nhttps://www.decode-m.com/\\n\\nData ...    -1.0   \n",
       "3  Sapphire Digital seeks a dynamic and driven mi...     3.4   \n",
       "4  Director, Data Science - (200537)\\nDescription...     3.4   \n",
       "\n",
       "                      Company Name       Location      Headquarters  \\\n",
       "0                      Hopper\\n3.5   New York, NY  Montreal, Canada   \n",
       "1                     Noom US\\n4.5   New York, NY      New York, NY   \n",
       "2                         Decode_M   New York, NY      New York, NY   \n",
       "3            Sapphire Digital\\n3.4  Lyndhurst, NJ     Lyndhurst, NJ   \n",
       "4  United Entertainment Group\\n3.4   New York, NY      New York, NY   \n",
       "\n",
       "                     Size  Founded  Type of ownership  \\\n",
       "0   501 to 1000 employees     2007  Company - Private   \n",
       "1  1001 to 5000 employees     2008  Company - Private   \n",
       "2       1 to 50 employees       -1            Unknown   \n",
       "3    201 to 500 employees     2019  Company - Private   \n",
       "4     51 to 200 employees     2007  Company - Private   \n",
       "\n",
       "                    Industry                  Sector  \\\n",
       "0            Travel Agencies        Travel & Tourism   \n",
       "1  Health, Beauty, & Fitness       Consumer Services   \n",
       "2                         -1                      -1   \n",
       "3                   Internet  Information Technology   \n",
       "4    Advertising & Marketing       Business Services   \n",
       "\n",
       "                    Revenue               Competitors Easy Apply  \n",
       "0  Unknown / Non-Applicable                        -1         -1  \n",
       "1  Unknown / Non-Applicable                        -1         -1  \n",
       "2  Unknown / Non-Applicable                        -1       True  \n",
       "3  Unknown / Non-Applicable      Zocdoc, Healthgrades         -1  \n",
       "4  Unknown / Non-Applicable  BBDO, Grey Group, Droga5         -1  "
      ]
     },
     "execution_count": 5,
     "metadata": {},
     "output_type": "execute_result"
    }
   ],
   "source": [
    "df.head()"
   ]
  },
  {
   "cell_type": "code",
   "execution_count": 6,
   "id": "e609e219",
   "metadata": {},
   "outputs": [],
   "source": [
    "df['min_salary'] = df['Salary']\n",
    "df['max_salary'] = df['Salary']"
   ]
  },
  {
   "cell_type": "code",
   "execution_count": 7,
   "id": "a95656ff",
   "metadata": {},
   "outputs": [],
   "source": [
    "from nltk.stem import RegexpStemmer\n",
    "from nltk.stem import WordNetLemmatizer\n",
    "from nltk.corpus import stopwords\n",
    "from nltk.tokenize import word_tokenize\n",
    "from nltk.tokenize import RegexpTokenizer\n",
    "from nltk.probability import FreqDist\n",
    "from sklearn.feature_extraction.text import TfidfVectorizer\n",
    "from nltk.corpus import words\n",
    "from nltk.tokenize import WhitespaceTokenizer"
   ]
  },
  {
   "cell_type": "code",
   "execution_count": 8,
   "id": "ddf6bd5d",
   "metadata": {},
   "outputs": [],
   "source": [
    "salaries = df['Salary']\n",
    "inds = []\n",
    "for i in range(len(salaries)):\n",
    "    if 'Per' in salaries[i]:\n",
    "        inds.append(i)\n",
    "df = df.drop(inds)\n",
    "df = df.reset_index()"
   ]
  },
  {
   "cell_type": "code",
   "execution_count": 9,
   "id": "fbb7d52c",
   "metadata": {},
   "outputs": [],
   "source": [
    "for i in range(df.shape[0]):\n",
    "    salary = df['Salary'][i]\n",
    "    ind = salary.index('-')\n",
    "    min_salary = salary[0:ind]\n",
    "    max_salary = salary[ind+1:len(salary)]\n",
    "    df.loc[i,'min_salary'] = float(min_salary[1:len(min_salary)-1])\n",
    "    df.loc[i,'max_salary'] = float(max_salary[1:len(max_salary)-1])"
   ]
  },
  {
   "cell_type": "code",
   "execution_count": 10,
   "id": "65bbd509",
   "metadata": {},
   "outputs": [],
   "source": [
    "df = df.drop(columns=['index', 'Unnamed: 0', 'Size', 'Headquarters', 'Founded', 'Revenue', 'Type of ownership', 'Competitors','Industry', 'Salary', 'Rating', 'Easy Apply', 'level_0'])"
   ]
  },
  {
   "cell_type": "code",
   "execution_count": 11,
   "id": "007ba23e",
   "metadata": {},
   "outputs": [],
   "source": [
    "df = df.rename(columns = {'Job Description': 'Text'})"
   ]
  },
  {
   "cell_type": "code",
   "execution_count": 12,
   "id": "764deaeb",
   "metadata": {},
   "outputs": [],
   "source": [
    "tokenizer = RegexpTokenizer(r'[A-Za-z]+')"
   ]
  },
  {
   "cell_type": "code",
   "execution_count": 13,
   "id": "724ace78",
   "metadata": {},
   "outputs": [],
   "source": [
    "prog_langs = ['SQL', 'R', 'OCaml', 'Python', 'SAS', 'PowerBI', 'Tableau', 'Java', 'Javascript' 'Excel', 'TensorFlow', 'Matlab', 'C++', 'AWS', 'NLP', 'Julia', 'C', 'Stata', 'Scala']\n",
    "prog_langs = [lang.lower() for lang in prog_langs]"
   ]
  },
  {
   "cell_type": "code",
   "execution_count": 14,
   "id": "6d9dc899",
   "metadata": {},
   "outputs": [],
   "source": [
    "lemmatizer = WordNetLemmatizer()"
   ]
  },
  {
   "cell_type": "code",
   "execution_count": 15,
   "id": "18d5ddb4",
   "metadata": {},
   "outputs": [],
   "source": [
    "texts = []\n",
    "titles = []\n",
    "descriptions = []\n",
    "for i in range(df.shape[0]):\n",
    "    words = tokenizer.tokenize(df.loc[i, 'Text'])\n",
    "    jobs = tokenizer.tokenize(df.loc[i, 'Job Title'])\n",
    "    tex = [lemmatizer.lemmatize(word.lower()) for word in words if not word.lower() in stopwords.words('english') and (d.check(word) or word in prog_langs)]\n",
    "    descript = [des for des in tex if not des in prog_langs]\n",
    "    j = [lemmatizer.lemmatize(job.lower()) for job in jobs if not job.lower() in stopwords.words('english') and d.check(job)]\n",
    "    texts.append(tex)\n",
    "    titles.append(j)\n",
    "    descriptions.append(descript)"
   ]
  },
  {
   "cell_type": "code",
   "execution_count": 16,
   "id": "8747a2c9",
   "metadata": {},
   "outputs": [],
   "source": [
    "df['Text_red'] = pd.Series(texts)\n",
    "df['Job_red'] = pd.Series(titles)\n",
    "df['Describe'] = pd.Series(descriptions)"
   ]
  },
  {
   "cell_type": "code",
   "execution_count": 17,
   "id": "8e4556e2",
   "metadata": {},
   "outputs": [],
   "source": [
    "tk = WhitespaceTokenizer()\n",
    "loc_sec = []\n",
    "for i in range(df.shape[0]):\n",
    "    loc_ind = df.loc[i, 'Location'].index(',')\n",
    "    loc_str = (df.loc[i,'Location'][0:loc_ind]).replace(\" \", \"_\") + df.loc[i,'Location'][loc_ind+1:] + ' '\n",
    "    sec_str = (df.loc[i,'Sector']).replace('&', '')\n",
    "    tot_list = tk.tokenize(loc_str + (sec_str.replace('  ','_')).replace(' ', '_'))\n",
    "    loc_sec.append(tot_list)\n",
    "\n",
    "df['loc_sec'] = pd.Series(loc_sec)  "
   ]
  },
  {
   "cell_type": "code",
   "execution_count": 18,
   "id": "2a3d95b9",
   "metadata": {
    "scrolled": true
   },
   "outputs": [
    {
     "data": {
      "text/html": [
       "<div>\n",
       "<style scoped>\n",
       "    .dataframe tbody tr th:only-of-type {\n",
       "        vertical-align: middle;\n",
       "    }\n",
       "\n",
       "    .dataframe tbody tr th {\n",
       "        vertical-align: top;\n",
       "    }\n",
       "\n",
       "    .dataframe thead th {\n",
       "        text-align: right;\n",
       "    }\n",
       "</style>\n",
       "<table border=\"1\" class=\"dataframe\">\n",
       "  <thead>\n",
       "    <tr style=\"text-align: right;\">\n",
       "      <th></th>\n",
       "      <th>Job Title</th>\n",
       "      <th>Text</th>\n",
       "      <th>Company Name</th>\n",
       "      <th>Location</th>\n",
       "      <th>Sector</th>\n",
       "      <th>min_salary</th>\n",
       "      <th>max_salary</th>\n",
       "      <th>Text_red</th>\n",
       "      <th>Job_red</th>\n",
       "      <th>Describe</th>\n",
       "      <th>loc_sec</th>\n",
       "    </tr>\n",
       "  </thead>\n",
       "  <tbody>\n",
       "    <tr>\n",
       "      <th>0</th>\n",
       "      <td>Senior Data Scientist</td>\n",
       "      <td>ABOUT HOPPER\\n\\nAt Hopper, we’re on a mission ...</td>\n",
       "      <td>Hopper\\n3.5</td>\n",
       "      <td>New York, NY</td>\n",
       "      <td>Travel &amp; Tourism</td>\n",
       "      <td>111.0</td>\n",
       "      <td>181.0</td>\n",
       "      <td>[hopper, hopper, mission, make, booking, trave...</td>\n",
       "      <td>[senior, data, scientist]</td>\n",
       "      <td>[hopper, hopper, mission, make, booking, trave...</td>\n",
       "      <td>[New_York, NY, Travel_Tourism]</td>\n",
       "    </tr>\n",
       "    <tr>\n",
       "      <th>1</th>\n",
       "      <td>Data Scientist, Product Analytics</td>\n",
       "      <td>At Noom, we use scientifically proven methods ...</td>\n",
       "      <td>Noom US\\n4.5</td>\n",
       "      <td>New York, NY</td>\n",
       "      <td>Consumer Services</td>\n",
       "      <td>111.0</td>\n",
       "      <td>181.0</td>\n",
       "      <td>[use, scientifically, proven, method, help, us...</td>\n",
       "      <td>[data, scientist, product]</td>\n",
       "      <td>[use, scientifically, proven, method, help, us...</td>\n",
       "      <td>[New_York, NY, Consumer_Services]</td>\n",
       "    </tr>\n",
       "    <tr>\n",
       "      <th>2</th>\n",
       "      <td>Data Science Manager</td>\n",
       "      <td>Decode_M\\n\\nhttps://www.decode-m.com/\\n\\nData ...</td>\n",
       "      <td>Decode_M</td>\n",
       "      <td>New York, NY</td>\n",
       "      <td>-1</td>\n",
       "      <td>111.0</td>\n",
       "      <td>181.0</td>\n",
       "      <td>[decode, decode, com, data, science, manager, ...</td>\n",
       "      <td>[data, science, manager]</td>\n",
       "      <td>[decode, decode, com, data, science, manager, ...</td>\n",
       "      <td>[New_York, NY, -1]</td>\n",
       "    </tr>\n",
       "    <tr>\n",
       "      <th>3</th>\n",
       "      <td>Data Analyst</td>\n",
       "      <td>Sapphire Digital seeks a dynamic and driven mi...</td>\n",
       "      <td>Sapphire Digital\\n3.4</td>\n",
       "      <td>Lyndhurst, NJ</td>\n",
       "      <td>Information Technology</td>\n",
       "      <td>111.0</td>\n",
       "      <td>181.0</td>\n",
       "      <td>[sapphire, digital, seek, dynamic, driven, mid...</td>\n",
       "      <td>[data, analyst]</td>\n",
       "      <td>[sapphire, digital, seek, dynamic, driven, mid...</td>\n",
       "      <td>[Lyndhurst, NJ, Information_Technology]</td>\n",
       "    </tr>\n",
       "    <tr>\n",
       "      <th>4</th>\n",
       "      <td>Director, Data Science</td>\n",
       "      <td>Director, Data Science - (200537)\\nDescription...</td>\n",
       "      <td>United Entertainment Group\\n3.4</td>\n",
       "      <td>New York, NY</td>\n",
       "      <td>Business Services</td>\n",
       "      <td>111.0</td>\n",
       "      <td>181.0</td>\n",
       "      <td>[director, data, science, description, intelli...</td>\n",
       "      <td>[director, data, science]</td>\n",
       "      <td>[director, data, science, description, intelli...</td>\n",
       "      <td>[New_York, NY, Business_Services]</td>\n",
       "    </tr>\n",
       "  </tbody>\n",
       "</table>\n",
       "</div>"
      ],
      "text/plain": [
       "                           Job Title  \\\n",
       "0              Senior Data Scientist   \n",
       "1  Data Scientist, Product Analytics   \n",
       "2               Data Science Manager   \n",
       "3                       Data Analyst   \n",
       "4             Director, Data Science   \n",
       "\n",
       "                                                Text  \\\n",
       "0  ABOUT HOPPER\\n\\nAt Hopper, we’re on a mission ...   \n",
       "1  At Noom, we use scientifically proven methods ...   \n",
       "2  Decode_M\\n\\nhttps://www.decode-m.com/\\n\\nData ...   \n",
       "3  Sapphire Digital seeks a dynamic and driven mi...   \n",
       "4  Director, Data Science - (200537)\\nDescription...   \n",
       "\n",
       "                      Company Name       Location                  Sector  \\\n",
       "0                      Hopper\\n3.5   New York, NY        Travel & Tourism   \n",
       "1                     Noom US\\n4.5   New York, NY       Consumer Services   \n",
       "2                         Decode_M   New York, NY                      -1   \n",
       "3            Sapphire Digital\\n3.4  Lyndhurst, NJ  Information Technology   \n",
       "4  United Entertainment Group\\n3.4   New York, NY       Business Services   \n",
       "\n",
       "  min_salary max_salary                                           Text_red  \\\n",
       "0      111.0      181.0  [hopper, hopper, mission, make, booking, trave...   \n",
       "1      111.0      181.0  [use, scientifically, proven, method, help, us...   \n",
       "2      111.0      181.0  [decode, decode, com, data, science, manager, ...   \n",
       "3      111.0      181.0  [sapphire, digital, seek, dynamic, driven, mid...   \n",
       "4      111.0      181.0  [director, data, science, description, intelli...   \n",
       "\n",
       "                      Job_red  \\\n",
       "0   [senior, data, scientist]   \n",
       "1  [data, scientist, product]   \n",
       "2    [data, science, manager]   \n",
       "3             [data, analyst]   \n",
       "4   [director, data, science]   \n",
       "\n",
       "                                            Describe  \\\n",
       "0  [hopper, hopper, mission, make, booking, trave...   \n",
       "1  [use, scientifically, proven, method, help, us...   \n",
       "2  [decode, decode, com, data, science, manager, ...   \n",
       "3  [sapphire, digital, seek, dynamic, driven, mid...   \n",
       "4  [director, data, science, description, intelli...   \n",
       "\n",
       "                                   loc_sec  \n",
       "0           [New_York, NY, Travel_Tourism]  \n",
       "1        [New_York, NY, Consumer_Services]  \n",
       "2                       [New_York, NY, -1]  \n",
       "3  [Lyndhurst, NJ, Information_Technology]  \n",
       "4        [New_York, NY, Business_Services]  "
      ]
     },
     "execution_count": 18,
     "metadata": {},
     "output_type": "execute_result"
    }
   ],
   "source": [
    "df.head()"
   ]
  },
  {
   "cell_type": "code",
   "execution_count": 19,
   "id": "8c3dffc6",
   "metadata": {},
   "outputs": [],
   "source": [
    "Languages = []\n",
    "for i in range(df.shape[0]):\n",
    "    langs = [lang for lang in prog_langs if lang in df.loc[i, 'Text_red']]\n",
    "    Languages.append(langs)"
   ]
  },
  {
   "cell_type": "code",
   "execution_count": 20,
   "id": "d5bbb04e",
   "metadata": {},
   "outputs": [],
   "source": [
    "df['Prog_Languages'] = pd.Series(Languages)"
   ]
  },
  {
   "cell_type": "code",
   "execution_count": 21,
   "id": "be533a8a",
   "metadata": {},
   "outputs": [],
   "source": [
    "avg_sal = []\n",
    "for i in range(df.shape[0]):\n",
    "    avg = (df.loc[i, 'min_salary'] + df.loc[i, 'max_salary'])/2\n",
    "    avg_sal.append(avg)"
   ]
  },
  {
   "cell_type": "code",
   "execution_count": 22,
   "id": "392c3aa3",
   "metadata": {},
   "outputs": [],
   "source": [
    "df['avg_salaries'] = pd.Series(avg_sal)"
   ]
  },
  {
   "cell_type": "code",
   "execution_count": 23,
   "id": "f695727b",
   "metadata": {},
   "outputs": [],
   "source": [
    "indices = []\n",
    "for i in range(len(df.Prog_Languages)):\n",
    "    if len(df.Prog_Languages[i]) == 0:\n",
    "        indices.append(i)"
   ]
  },
  {
   "cell_type": "code",
   "execution_count": 24,
   "id": "05096e8c",
   "metadata": {},
   "outputs": [],
   "source": [
    "indices = []\n",
    "for i in range(len(df.Prog_Languages)):\n",
    "    if 'aws' in df.Prog_Languages[i]:\n",
    "        indices.append(i)"
   ]
  },
  {
   "cell_type": "code",
   "execution_count": 25,
   "id": "188a9fe7",
   "metadata": {},
   "outputs": [
    {
     "data": {
      "text/html": [
       "<div>\n",
       "<style scoped>\n",
       "    .dataframe tbody tr th:only-of-type {\n",
       "        vertical-align: middle;\n",
       "    }\n",
       "\n",
       "    .dataframe tbody tr th {\n",
       "        vertical-align: top;\n",
       "    }\n",
       "\n",
       "    .dataframe thead th {\n",
       "        text-align: right;\n",
       "    }\n",
       "</style>\n",
       "<table border=\"1\" class=\"dataframe\">\n",
       "  <thead>\n",
       "    <tr style=\"text-align: right;\">\n",
       "      <th></th>\n",
       "      <th>Job Title</th>\n",
       "      <th>Text</th>\n",
       "      <th>Company Name</th>\n",
       "      <th>Location</th>\n",
       "      <th>Sector</th>\n",
       "      <th>min_salary</th>\n",
       "      <th>max_salary</th>\n",
       "      <th>Text_red</th>\n",
       "      <th>Job_red</th>\n",
       "      <th>Describe</th>\n",
       "      <th>loc_sec</th>\n",
       "      <th>Prog_Languages</th>\n",
       "      <th>avg_salaries</th>\n",
       "    </tr>\n",
       "  </thead>\n",
       "  <tbody>\n",
       "    <tr>\n",
       "      <th>0</th>\n",
       "      <td>Senior Data Scientist</td>\n",
       "      <td>ABOUT HOPPER\\n\\nAt Hopper, we’re on a mission ...</td>\n",
       "      <td>Hopper\\n3.5</td>\n",
       "      <td>New York, NY</td>\n",
       "      <td>Travel &amp; Tourism</td>\n",
       "      <td>111.0</td>\n",
       "      <td>181.0</td>\n",
       "      <td>[hopper, hopper, mission, make, booking, trave...</td>\n",
       "      <td>[senior, data, scientist]</td>\n",
       "      <td>[hopper, hopper, mission, make, booking, trave...</td>\n",
       "      <td>[New_York, NY, Travel_Tourism]</td>\n",
       "      <td>[sql, r, tableau]</td>\n",
       "      <td>146.0</td>\n",
       "    </tr>\n",
       "    <tr>\n",
       "      <th>1</th>\n",
       "      <td>Data Scientist, Product Analytics</td>\n",
       "      <td>At Noom, we use scientifically proven methods ...</td>\n",
       "      <td>Noom US\\n4.5</td>\n",
       "      <td>New York, NY</td>\n",
       "      <td>Consumer Services</td>\n",
       "      <td>111.0</td>\n",
       "      <td>181.0</td>\n",
       "      <td>[use, scientifically, proven, method, help, us...</td>\n",
       "      <td>[data, scientist, product]</td>\n",
       "      <td>[use, scientifically, proven, method, help, us...</td>\n",
       "      <td>[New_York, NY, Consumer_Services]</td>\n",
       "      <td>[sql, python]</td>\n",
       "      <td>146.0</td>\n",
       "    </tr>\n",
       "    <tr>\n",
       "      <th>2</th>\n",
       "      <td>Data Science Manager</td>\n",
       "      <td>Decode_M\\n\\nhttps://www.decode-m.com/\\n\\nData ...</td>\n",
       "      <td>Decode_M</td>\n",
       "      <td>New York, NY</td>\n",
       "      <td>-1</td>\n",
       "      <td>111.0</td>\n",
       "      <td>181.0</td>\n",
       "      <td>[decode, decode, com, data, science, manager, ...</td>\n",
       "      <td>[data, science, manager]</td>\n",
       "      <td>[decode, decode, com, data, science, manager, ...</td>\n",
       "      <td>[New_York, NY, -1]</td>\n",
       "      <td>[r, python]</td>\n",
       "      <td>146.0</td>\n",
       "    </tr>\n",
       "    <tr>\n",
       "      <th>3</th>\n",
       "      <td>Data Analyst</td>\n",
       "      <td>Sapphire Digital seeks a dynamic and driven mi...</td>\n",
       "      <td>Sapphire Digital\\n3.4</td>\n",
       "      <td>Lyndhurst, NJ</td>\n",
       "      <td>Information Technology</td>\n",
       "      <td>111.0</td>\n",
       "      <td>181.0</td>\n",
       "      <td>[sapphire, digital, seek, dynamic, driven, mid...</td>\n",
       "      <td>[data, analyst]</td>\n",
       "      <td>[sapphire, digital, seek, dynamic, driven, mid...</td>\n",
       "      <td>[Lyndhurst, NJ, Information_Technology]</td>\n",
       "      <td>[sql, r, python]</td>\n",
       "      <td>146.0</td>\n",
       "    </tr>\n",
       "    <tr>\n",
       "      <th>4</th>\n",
       "      <td>Director, Data Science</td>\n",
       "      <td>Director, Data Science - (200537)\\nDescription...</td>\n",
       "      <td>United Entertainment Group\\n3.4</td>\n",
       "      <td>New York, NY</td>\n",
       "      <td>Business Services</td>\n",
       "      <td>111.0</td>\n",
       "      <td>181.0</td>\n",
       "      <td>[director, data, science, description, intelli...</td>\n",
       "      <td>[director, data, science]</td>\n",
       "      <td>[director, data, science, description, intelli...</td>\n",
       "      <td>[New_York, NY, Business_Services]</td>\n",
       "      <td>[r, python]</td>\n",
       "      <td>146.0</td>\n",
       "    </tr>\n",
       "  </tbody>\n",
       "</table>\n",
       "</div>"
      ],
      "text/plain": [
       "                           Job Title  \\\n",
       "0              Senior Data Scientist   \n",
       "1  Data Scientist, Product Analytics   \n",
       "2               Data Science Manager   \n",
       "3                       Data Analyst   \n",
       "4             Director, Data Science   \n",
       "\n",
       "                                                Text  \\\n",
       "0  ABOUT HOPPER\\n\\nAt Hopper, we’re on a mission ...   \n",
       "1  At Noom, we use scientifically proven methods ...   \n",
       "2  Decode_M\\n\\nhttps://www.decode-m.com/\\n\\nData ...   \n",
       "3  Sapphire Digital seeks a dynamic and driven mi...   \n",
       "4  Director, Data Science - (200537)\\nDescription...   \n",
       "\n",
       "                      Company Name       Location                  Sector  \\\n",
       "0                      Hopper\\n3.5   New York, NY        Travel & Tourism   \n",
       "1                     Noom US\\n4.5   New York, NY       Consumer Services   \n",
       "2                         Decode_M   New York, NY                      -1   \n",
       "3            Sapphire Digital\\n3.4  Lyndhurst, NJ  Information Technology   \n",
       "4  United Entertainment Group\\n3.4   New York, NY       Business Services   \n",
       "\n",
       "  min_salary max_salary                                           Text_red  \\\n",
       "0      111.0      181.0  [hopper, hopper, mission, make, booking, trave...   \n",
       "1      111.0      181.0  [use, scientifically, proven, method, help, us...   \n",
       "2      111.0      181.0  [decode, decode, com, data, science, manager, ...   \n",
       "3      111.0      181.0  [sapphire, digital, seek, dynamic, driven, mid...   \n",
       "4      111.0      181.0  [director, data, science, description, intelli...   \n",
       "\n",
       "                      Job_red  \\\n",
       "0   [senior, data, scientist]   \n",
       "1  [data, scientist, product]   \n",
       "2    [data, science, manager]   \n",
       "3             [data, analyst]   \n",
       "4   [director, data, science]   \n",
       "\n",
       "                                            Describe  \\\n",
       "0  [hopper, hopper, mission, make, booking, trave...   \n",
       "1  [use, scientifically, proven, method, help, us...   \n",
       "2  [decode, decode, com, data, science, manager, ...   \n",
       "3  [sapphire, digital, seek, dynamic, driven, mid...   \n",
       "4  [director, data, science, description, intelli...   \n",
       "\n",
       "                                   loc_sec     Prog_Languages  avg_salaries  \n",
       "0           [New_York, NY, Travel_Tourism]  [sql, r, tableau]         146.0  \n",
       "1        [New_York, NY, Consumer_Services]      [sql, python]         146.0  \n",
       "2                       [New_York, NY, -1]        [r, python]         146.0  \n",
       "3  [Lyndhurst, NJ, Information_Technology]   [sql, r, python]         146.0  \n",
       "4        [New_York, NY, Business_Services]        [r, python]         146.0  "
      ]
     },
     "execution_count": 25,
     "metadata": {},
     "output_type": "execute_result"
    }
   ],
   "source": [
    "df.head()"
   ]
  },
  {
   "cell_type": "code",
   "execution_count": 26,
   "id": "d17cabd2",
   "metadata": {},
   "outputs": [
    {
     "data": {
      "text/plain": [
       "array([ 43.5,  48.5,  53. ,  53.5,  54. ,  55. ,  56. ,  56.5,  57.5,\n",
       "        59.5,  60. ,  61.5,  62. ,  62.5,  63. ,  63.5,  64. ,  64.5,\n",
       "        65. ,  65.5,  68.5,  70.5,  71. ,  71.5,  73. ,  75. ,  75.5,\n",
       "        76.5,  77.5,  78. ,  78.5,  80. ,  80.5,  82.5,  83.5,  84. ,\n",
       "        84.5,  85.5,  86. ,  87. ,  87.5,  92. ,  92.5,  94. ,  94.5,\n",
       "        96.5,  98. ,  99. ,  99.5, 100.5, 101.5, 104. , 104.5, 105.5,\n",
       "       106.5, 107. , 107.5, 109. , 111.5, 112. , 114. , 116. , 118. ,\n",
       "       118.5, 120. , 121. , 122. , 122.5, 124. , 124.5, 125. , 125.5,\n",
       "       126. , 128. , 129. , 130. , 131.5, 132. , 132.5, 133. , 134. ,\n",
       "       136. , 136.5, 139.5, 140.5, 143. , 145. , 146. , 146.5, 148.5,\n",
       "       149.5, 150. , 152. , 153.5, 156.5, 159.5, 160.5, 161. , 161.5,\n",
       "       162.5, 169.5, 170. , 172. , 174.5, 176. , 177.5, 183. , 190. ,\n",
       "       193.5, 205. , 225. ])"
      ]
     },
     "execution_count": 26,
     "metadata": {},
     "output_type": "execute_result"
    }
   ],
   "source": [
    "np.sort(df.avg_salaries.unique())"
   ]
  },
  {
   "cell_type": "code",
   "execution_count": 27,
   "id": "c544c0c7",
   "metadata": {},
   "outputs": [],
   "source": [
    "df = df.drop(columns = ['min_salary', 'max_salary'])"
   ]
  },
  {
   "cell_type": "code",
   "execution_count": 28,
   "id": "44a2ab0c",
   "metadata": {},
   "outputs": [
    {
     "data": {
      "text/html": [
       "<div>\n",
       "<style scoped>\n",
       "    .dataframe tbody tr th:only-of-type {\n",
       "        vertical-align: middle;\n",
       "    }\n",
       "\n",
       "    .dataframe tbody tr th {\n",
       "        vertical-align: top;\n",
       "    }\n",
       "\n",
       "    .dataframe thead th {\n",
       "        text-align: right;\n",
       "    }\n",
       "</style>\n",
       "<table border=\"1\" class=\"dataframe\">\n",
       "  <thead>\n",
       "    <tr style=\"text-align: right;\">\n",
       "      <th></th>\n",
       "      <th>Job Title</th>\n",
       "      <th>Text</th>\n",
       "      <th>Company Name</th>\n",
       "      <th>Location</th>\n",
       "      <th>Sector</th>\n",
       "      <th>Text_red</th>\n",
       "      <th>Job_red</th>\n",
       "      <th>Describe</th>\n",
       "      <th>loc_sec</th>\n",
       "      <th>Prog_Languages</th>\n",
       "      <th>avg_salaries</th>\n",
       "    </tr>\n",
       "  </thead>\n",
       "  <tbody>\n",
       "    <tr>\n",
       "      <th>0</th>\n",
       "      <td>Senior Data Scientist</td>\n",
       "      <td>ABOUT HOPPER\\n\\nAt Hopper, we’re on a mission ...</td>\n",
       "      <td>Hopper\\n3.5</td>\n",
       "      <td>New York, NY</td>\n",
       "      <td>Travel &amp; Tourism</td>\n",
       "      <td>[hopper, hopper, mission, make, booking, trave...</td>\n",
       "      <td>[senior, data, scientist]</td>\n",
       "      <td>[hopper, hopper, mission, make, booking, trave...</td>\n",
       "      <td>[New_York, NY, Travel_Tourism]</td>\n",
       "      <td>[sql, r, tableau]</td>\n",
       "      <td>146.0</td>\n",
       "    </tr>\n",
       "    <tr>\n",
       "      <th>1</th>\n",
       "      <td>Data Scientist, Product Analytics</td>\n",
       "      <td>At Noom, we use scientifically proven methods ...</td>\n",
       "      <td>Noom US\\n4.5</td>\n",
       "      <td>New York, NY</td>\n",
       "      <td>Consumer Services</td>\n",
       "      <td>[use, scientifically, proven, method, help, us...</td>\n",
       "      <td>[data, scientist, product]</td>\n",
       "      <td>[use, scientifically, proven, method, help, us...</td>\n",
       "      <td>[New_York, NY, Consumer_Services]</td>\n",
       "      <td>[sql, python]</td>\n",
       "      <td>146.0</td>\n",
       "    </tr>\n",
       "    <tr>\n",
       "      <th>2</th>\n",
       "      <td>Data Science Manager</td>\n",
       "      <td>Decode_M\\n\\nhttps://www.decode-m.com/\\n\\nData ...</td>\n",
       "      <td>Decode_M</td>\n",
       "      <td>New York, NY</td>\n",
       "      <td>-1</td>\n",
       "      <td>[decode, decode, com, data, science, manager, ...</td>\n",
       "      <td>[data, science, manager]</td>\n",
       "      <td>[decode, decode, com, data, science, manager, ...</td>\n",
       "      <td>[New_York, NY, -1]</td>\n",
       "      <td>[r, python]</td>\n",
       "      <td>146.0</td>\n",
       "    </tr>\n",
       "    <tr>\n",
       "      <th>3</th>\n",
       "      <td>Data Analyst</td>\n",
       "      <td>Sapphire Digital seeks a dynamic and driven mi...</td>\n",
       "      <td>Sapphire Digital\\n3.4</td>\n",
       "      <td>Lyndhurst, NJ</td>\n",
       "      <td>Information Technology</td>\n",
       "      <td>[sapphire, digital, seek, dynamic, driven, mid...</td>\n",
       "      <td>[data, analyst]</td>\n",
       "      <td>[sapphire, digital, seek, dynamic, driven, mid...</td>\n",
       "      <td>[Lyndhurst, NJ, Information_Technology]</td>\n",
       "      <td>[sql, r, python]</td>\n",
       "      <td>146.0</td>\n",
       "    </tr>\n",
       "    <tr>\n",
       "      <th>4</th>\n",
       "      <td>Director, Data Science</td>\n",
       "      <td>Director, Data Science - (200537)\\nDescription...</td>\n",
       "      <td>United Entertainment Group\\n3.4</td>\n",
       "      <td>New York, NY</td>\n",
       "      <td>Business Services</td>\n",
       "      <td>[director, data, science, description, intelli...</td>\n",
       "      <td>[director, data, science]</td>\n",
       "      <td>[director, data, science, description, intelli...</td>\n",
       "      <td>[New_York, NY, Business_Services]</td>\n",
       "      <td>[r, python]</td>\n",
       "      <td>146.0</td>\n",
       "    </tr>\n",
       "  </tbody>\n",
       "</table>\n",
       "</div>"
      ],
      "text/plain": [
       "                           Job Title  \\\n",
       "0              Senior Data Scientist   \n",
       "1  Data Scientist, Product Analytics   \n",
       "2               Data Science Manager   \n",
       "3                       Data Analyst   \n",
       "4             Director, Data Science   \n",
       "\n",
       "                                                Text  \\\n",
       "0  ABOUT HOPPER\\n\\nAt Hopper, we’re on a mission ...   \n",
       "1  At Noom, we use scientifically proven methods ...   \n",
       "2  Decode_M\\n\\nhttps://www.decode-m.com/\\n\\nData ...   \n",
       "3  Sapphire Digital seeks a dynamic and driven mi...   \n",
       "4  Director, Data Science - (200537)\\nDescription...   \n",
       "\n",
       "                      Company Name       Location                  Sector  \\\n",
       "0                      Hopper\\n3.5   New York, NY        Travel & Tourism   \n",
       "1                     Noom US\\n4.5   New York, NY       Consumer Services   \n",
       "2                         Decode_M   New York, NY                      -1   \n",
       "3            Sapphire Digital\\n3.4  Lyndhurst, NJ  Information Technology   \n",
       "4  United Entertainment Group\\n3.4   New York, NY       Business Services   \n",
       "\n",
       "                                            Text_red  \\\n",
       "0  [hopper, hopper, mission, make, booking, trave...   \n",
       "1  [use, scientifically, proven, method, help, us...   \n",
       "2  [decode, decode, com, data, science, manager, ...   \n",
       "3  [sapphire, digital, seek, dynamic, driven, mid...   \n",
       "4  [director, data, science, description, intelli...   \n",
       "\n",
       "                      Job_red  \\\n",
       "0   [senior, data, scientist]   \n",
       "1  [data, scientist, product]   \n",
       "2    [data, science, manager]   \n",
       "3             [data, analyst]   \n",
       "4   [director, data, science]   \n",
       "\n",
       "                                            Describe  \\\n",
       "0  [hopper, hopper, mission, make, booking, trave...   \n",
       "1  [use, scientifically, proven, method, help, us...   \n",
       "2  [decode, decode, com, data, science, manager, ...   \n",
       "3  [sapphire, digital, seek, dynamic, driven, mid...   \n",
       "4  [director, data, science, description, intelli...   \n",
       "\n",
       "                                   loc_sec     Prog_Languages  avg_salaries  \n",
       "0           [New_York, NY, Travel_Tourism]  [sql, r, tableau]         146.0  \n",
       "1        [New_York, NY, Consumer_Services]      [sql, python]         146.0  \n",
       "2                       [New_York, NY, -1]        [r, python]         146.0  \n",
       "3  [Lyndhurst, NJ, Information_Technology]   [sql, r, python]         146.0  \n",
       "4        [New_York, NY, Business_Services]        [r, python]         146.0  "
      ]
     },
     "execution_count": 28,
     "metadata": {},
     "output_type": "execute_result"
    }
   ],
   "source": [
    "df.head()"
   ]
  },
  {
   "cell_type": "code",
   "execution_count": 29,
   "id": "2c0fca4e",
   "metadata": {},
   "outputs": [],
   "source": [
    "lemmatizer = WordNetLemmatizer()"
   ]
  },
  {
   "cell_type": "code",
   "execution_count": 30,
   "id": "59a4a5e4",
   "metadata": {},
   "outputs": [],
   "source": [
    "salary_classes = []\n",
    "\n",
    "for i in range(df.shape[0]):\n",
    "    if df.loc[i,'avg_salaries'] > 164:\n",
    "        salary_classes.append(2)\n",
    "    elif df.loc[i,'avg_salaries'] > 103:\n",
    "         salary_classes.append(1)\n",
    "    else:\n",
    "        salary_classes.append(0)\n",
    "    \n",
    "df['salary_classes'] = pd.Series(salary_classes)"
   ]
  },
  {
   "cell_type": "code",
   "execution_count": 31,
   "id": "186bb42a",
   "metadata": {},
   "outputs": [],
   "source": [
    "indices = []\n",
    "for i in range(df.shape[0]):\n",
    "    if len(df.loc[i,'Prog_Languages']) > 0:\n",
    "        indices.append(i)\n",
    "\n",
    "df_lang = df.iloc[indices]"
   ]
  },
  {
   "cell_type": "code",
   "execution_count": 32,
   "id": "13a5c3f6",
   "metadata": {},
   "outputs": [],
   "source": [
    "lit = []\n",
    "for i in range(df.shape[0]):\n",
    "    lit.append(\" \".join(df.Prog_Languages[i]))"
   ]
  },
  {
   "cell_type": "code",
   "execution_count": 33,
   "id": "f5d32772",
   "metadata": {},
   "outputs": [],
   "source": [
    "indices = []\n",
    "indys = []\n",
    "for i in range(df.shape[0]):\n",
    "    if 'data' in df.loc[i,'Job_red']:\n",
    "        indices.append(i)\n",
    "    else: \n",
    "        indys.append(i)"
   ]
  },
  {
   "cell_type": "code",
   "execution_count": 34,
   "id": "4d515d6d",
   "metadata": {},
   "outputs": [
    {
     "data": {
      "text/html": [
       "<div>\n",
       "<style scoped>\n",
       "    .dataframe tbody tr th:only-of-type {\n",
       "        vertical-align: middle;\n",
       "    }\n",
       "\n",
       "    .dataframe tbody tr th {\n",
       "        vertical-align: top;\n",
       "    }\n",
       "\n",
       "    .dataframe thead th {\n",
       "        text-align: right;\n",
       "    }\n",
       "</style>\n",
       "<table border=\"1\" class=\"dataframe\">\n",
       "  <thead>\n",
       "    <tr style=\"text-align: right;\">\n",
       "      <th></th>\n",
       "      <th>Job Title</th>\n",
       "      <th>Text</th>\n",
       "      <th>Company Name</th>\n",
       "      <th>Location</th>\n",
       "      <th>Sector</th>\n",
       "      <th>Text_red</th>\n",
       "      <th>Job_red</th>\n",
       "      <th>Describe</th>\n",
       "      <th>loc_sec</th>\n",
       "      <th>Prog_Languages</th>\n",
       "      <th>avg_salaries</th>\n",
       "      <th>salary_classes</th>\n",
       "    </tr>\n",
       "  </thead>\n",
       "  <tbody>\n",
       "    <tr>\n",
       "      <th>0</th>\n",
       "      <td>Senior Data Scientist</td>\n",
       "      <td>ABOUT HOPPER\\n\\nAt Hopper, we’re on a mission ...</td>\n",
       "      <td>Hopper\\n3.5</td>\n",
       "      <td>New York, NY</td>\n",
       "      <td>Travel &amp; Tourism</td>\n",
       "      <td>[hopper, hopper, mission, make, booking, trave...</td>\n",
       "      <td>[senior, data, scientist]</td>\n",
       "      <td>[hopper, hopper, mission, make, booking, trave...</td>\n",
       "      <td>[New_York, NY, Travel_Tourism]</td>\n",
       "      <td>[sql, r, tableau]</td>\n",
       "      <td>146.0</td>\n",
       "      <td>1</td>\n",
       "    </tr>\n",
       "    <tr>\n",
       "      <th>1</th>\n",
       "      <td>Data Scientist, Product Analytics</td>\n",
       "      <td>At Noom, we use scientifically proven methods ...</td>\n",
       "      <td>Noom US\\n4.5</td>\n",
       "      <td>New York, NY</td>\n",
       "      <td>Consumer Services</td>\n",
       "      <td>[use, scientifically, proven, method, help, us...</td>\n",
       "      <td>[data, scientist, product]</td>\n",
       "      <td>[use, scientifically, proven, method, help, us...</td>\n",
       "      <td>[New_York, NY, Consumer_Services]</td>\n",
       "      <td>[sql, python]</td>\n",
       "      <td>146.0</td>\n",
       "      <td>1</td>\n",
       "    </tr>\n",
       "    <tr>\n",
       "      <th>2</th>\n",
       "      <td>Data Science Manager</td>\n",
       "      <td>Decode_M\\n\\nhttps://www.decode-m.com/\\n\\nData ...</td>\n",
       "      <td>Decode_M</td>\n",
       "      <td>New York, NY</td>\n",
       "      <td>-1</td>\n",
       "      <td>[decode, decode, com, data, science, manager, ...</td>\n",
       "      <td>[data, science, manager]</td>\n",
       "      <td>[decode, decode, com, data, science, manager, ...</td>\n",
       "      <td>[New_York, NY, -1]</td>\n",
       "      <td>[r, python]</td>\n",
       "      <td>146.0</td>\n",
       "      <td>1</td>\n",
       "    </tr>\n",
       "    <tr>\n",
       "      <th>3</th>\n",
       "      <td>Data Analyst</td>\n",
       "      <td>Sapphire Digital seeks a dynamic and driven mi...</td>\n",
       "      <td>Sapphire Digital\\n3.4</td>\n",
       "      <td>Lyndhurst, NJ</td>\n",
       "      <td>Information Technology</td>\n",
       "      <td>[sapphire, digital, seek, dynamic, driven, mid...</td>\n",
       "      <td>[data, analyst]</td>\n",
       "      <td>[sapphire, digital, seek, dynamic, driven, mid...</td>\n",
       "      <td>[Lyndhurst, NJ, Information_Technology]</td>\n",
       "      <td>[sql, r, python]</td>\n",
       "      <td>146.0</td>\n",
       "      <td>1</td>\n",
       "    </tr>\n",
       "    <tr>\n",
       "      <th>4</th>\n",
       "      <td>Director, Data Science</td>\n",
       "      <td>Director, Data Science - (200537)\\nDescription...</td>\n",
       "      <td>United Entertainment Group\\n3.4</td>\n",
       "      <td>New York, NY</td>\n",
       "      <td>Business Services</td>\n",
       "      <td>[director, data, science, description, intelli...</td>\n",
       "      <td>[director, data, science]</td>\n",
       "      <td>[director, data, science, description, intelli...</td>\n",
       "      <td>[New_York, NY, Business_Services]</td>\n",
       "      <td>[r, python]</td>\n",
       "      <td>146.0</td>\n",
       "      <td>1</td>\n",
       "    </tr>\n",
       "  </tbody>\n",
       "</table>\n",
       "</div>"
      ],
      "text/plain": [
       "                           Job Title  \\\n",
       "0              Senior Data Scientist   \n",
       "1  Data Scientist, Product Analytics   \n",
       "2               Data Science Manager   \n",
       "3                       Data Analyst   \n",
       "4             Director, Data Science   \n",
       "\n",
       "                                                Text  \\\n",
       "0  ABOUT HOPPER\\n\\nAt Hopper, we’re on a mission ...   \n",
       "1  At Noom, we use scientifically proven methods ...   \n",
       "2  Decode_M\\n\\nhttps://www.decode-m.com/\\n\\nData ...   \n",
       "3  Sapphire Digital seeks a dynamic and driven mi...   \n",
       "4  Director, Data Science - (200537)\\nDescription...   \n",
       "\n",
       "                      Company Name       Location                  Sector  \\\n",
       "0                      Hopper\\n3.5   New York, NY        Travel & Tourism   \n",
       "1                     Noom US\\n4.5   New York, NY       Consumer Services   \n",
       "2                         Decode_M   New York, NY                      -1   \n",
       "3            Sapphire Digital\\n3.4  Lyndhurst, NJ  Information Technology   \n",
       "4  United Entertainment Group\\n3.4   New York, NY       Business Services   \n",
       "\n",
       "                                            Text_red  \\\n",
       "0  [hopper, hopper, mission, make, booking, trave...   \n",
       "1  [use, scientifically, proven, method, help, us...   \n",
       "2  [decode, decode, com, data, science, manager, ...   \n",
       "3  [sapphire, digital, seek, dynamic, driven, mid...   \n",
       "4  [director, data, science, description, intelli...   \n",
       "\n",
       "                      Job_red  \\\n",
       "0   [senior, data, scientist]   \n",
       "1  [data, scientist, product]   \n",
       "2    [data, science, manager]   \n",
       "3             [data, analyst]   \n",
       "4   [director, data, science]   \n",
       "\n",
       "                                            Describe  \\\n",
       "0  [hopper, hopper, mission, make, booking, trave...   \n",
       "1  [use, scientifically, proven, method, help, us...   \n",
       "2  [decode, decode, com, data, science, manager, ...   \n",
       "3  [sapphire, digital, seek, dynamic, driven, mid...   \n",
       "4  [director, data, science, description, intelli...   \n",
       "\n",
       "                                   loc_sec     Prog_Languages  avg_salaries  \\\n",
       "0           [New_York, NY, Travel_Tourism]  [sql, r, tableau]         146.0   \n",
       "1        [New_York, NY, Consumer_Services]      [sql, python]         146.0   \n",
       "2                       [New_York, NY, -1]        [r, python]         146.0   \n",
       "3  [Lyndhurst, NJ, Information_Technology]   [sql, r, python]         146.0   \n",
       "4        [New_York, NY, Business_Services]        [r, python]         146.0   \n",
       "\n",
       "   salary_classes  \n",
       "0               1  \n",
       "1               1  \n",
       "2               1  \n",
       "3               1  \n",
       "4               1  "
      ]
     },
     "execution_count": 34,
     "metadata": {},
     "output_type": "execute_result"
    }
   ],
   "source": [
    "df.iloc[indices].head()"
   ]
  },
  {
   "cell_type": "code",
   "execution_count": 35,
   "id": "f52d4dc0",
   "metadata": {},
   "outputs": [],
   "source": [
    "roles = df['Job_red']"
   ]
  },
  {
   "cell_type": "code",
   "execution_count": null,
   "id": "c24941d9",
   "metadata": {},
   "outputs": [],
   "source": []
  },
  {
   "cell_type": "code",
   "execution_count": 36,
   "id": "e6e3e3ec",
   "metadata": {},
   "outputs": [],
   "source": [
    "title_list = []\n",
    "for i in range(len(roles)):\n",
    "    for j in range(len(roles[i])):\n",
    "        if 'sr' in roles[i][j]:\n",
    "            title_list.append('senior')\n",
    "        else:\n",
    "            title_list.append(lemmatizer.lemmatize(roles[i][j]))\n",
    "    "
   ]
  },
  {
   "cell_type": "code",
   "execution_count": 37,
   "id": "d12a2551",
   "metadata": {},
   "outputs": [],
   "source": [
    "title_list = pd.Series(title_list)"
   ]
  },
  {
   "cell_type": "code",
   "execution_count": 38,
   "id": "28efb7c2",
   "metadata": {},
   "outputs": [],
   "source": [
    "title_counts = title_list.value_counts()\n",
    "ind = 0\n",
    "for i in range(len(title_counts)):\n",
    "    if title_counts[i] < 4:\n",
    "        ind = i\n",
    "        break\n",
    "        "
   ]
  },
  {
   "cell_type": "code",
   "execution_count": 39,
   "id": "6946fdd2",
   "metadata": {
    "scrolled": false
   },
   "outputs": [],
   "source": [
    "top_titles = title_counts[0:19].index"
   ]
  },
  {
   "cell_type": "code",
   "execution_count": 40,
   "id": "7ca9f33f",
   "metadata": {},
   "outputs": [],
   "source": [
    "salary_title = []\n",
    "for i in range(len(top_titles)):\n",
    "    summ = 0\n",
    "    count = 0\n",
    "    for j in range(df.shape[0]):\n",
    "        if top_titles[i] in df.loc[j, 'Job_red']:\n",
    "            summ = summ + df.loc[j, 'avg_salaries']\n",
    "            count = count + 1\n",
    "    mean = summ/count\n",
    "    salary_title.append(mean)\n",
    "        "
   ]
  },
  {
   "cell_type": "code",
   "execution_count": 41,
   "id": "a2b3e516",
   "metadata": {},
   "outputs": [
    {
     "data": {
      "text/plain": [
       "learning        123.777174\n",
       "machine         123.438202\n",
       "principal       117.392000\n",
       "scientist       115.603666\n",
       "lead            112.089286\n",
       "senior          111.893319\n",
       "manager         110.930000\n",
       "data            109.908396\n",
       "science         109.549261\n",
       "associate       106.500000\n",
       "research        106.250000\n",
       "engineer        104.348910\n",
       "ii              102.425676\n",
       "analyst         101.415636\n",
       "business        100.935252\n",
       "quantitative     96.895062\n",
       "big              96.210317\n",
       "consultant       95.174699\n",
       "intelligence     94.608247\n",
       "dtype: float64"
      ]
     },
     "execution_count": 41,
     "metadata": {},
     "output_type": "execute_result"
    }
   ],
   "source": [
    "salaries_df = pd.Series(index = top_titles, data = salary_title)\n",
    "salaries_df.sort_values(ascending=False)"
   ]
  },
  {
   "cell_type": "code",
   "execution_count": null,
   "id": "e4c7080c",
   "metadata": {},
   "outputs": [],
   "source": []
  },
  {
   "cell_type": "code",
   "execution_count": 42,
   "id": "c83f2973",
   "metadata": {},
   "outputs": [],
   "source": [
    "pro_langs = df['Prog_Languages']\n",
    "prog_list = []\n",
    "for i in range(len(pro_langs)):\n",
    "    for j in range(len(pro_langs[i])):\n",
    "        prog_list.append(pro_langs[i][j])\n",
    "        \n",
    "prog_list = pd.Series(prog_list)\n",
    "prog_counts = prog_list.value_counts()\n",
    "ind = 0\n",
    "for i in range(len(prog_counts)):\n",
    "    if prog_counts[i] < 1:\n",
    "        ind = i\n",
    "        break"
   ]
  },
  {
   "cell_type": "code",
   "execution_count": 43,
   "id": "9d0ac0c0",
   "metadata": {
    "scrolled": true
   },
   "outputs": [],
   "source": [
    "top_prog = prog_counts[0:15].index"
   ]
  },
  {
   "cell_type": "code",
   "execution_count": 44,
   "id": "255f9e1e",
   "metadata": {},
   "outputs": [],
   "source": [
    "prog_title = []\n",
    "for i in range(len(top_prog)):\n",
    "    summ = 0\n",
    "    count = 0\n",
    "    for j in range(df.shape[0]):\n",
    "        if top_prog[i] in df.loc[j, 'Prog_Languages']:\n",
    "            summ = summ + df.loc[j, 'avg_salaries']\n",
    "            count = count + 1\n",
    "    mean = summ/count\n",
    "    prog_title.append(mean)"
   ]
  },
  {
   "cell_type": "code",
   "execution_count": 45,
   "id": "42890659",
   "metadata": {},
   "outputs": [
    {
     "data": {
      "text/plain": [
       "stata         152.000000\n",
       "julia         122.500000\n",
       "tensorflow    120.636364\n",
       "r             114.162917\n",
       "python        113.032911\n",
       "c             111.337176\n",
       "scala         111.044289\n",
       "java          110.191349\n",
       "sql           109.873083\n",
       "tableau       106.985821\n",
       "nlp            99.000000\n",
       "aws            81.666667\n",
       "sas            63.500000\n",
       "dtype: float64"
      ]
     },
     "execution_count": 45,
     "metadata": {},
     "output_type": "execute_result"
    }
   ],
   "source": [
    "progs_df = pd.Series(index = top_prog, data = prog_title)\n",
    "progs_df.sort_values(ascending=False)"
   ]
  },
  {
   "cell_type": "code",
   "execution_count": 46,
   "id": "c71ca05a",
   "metadata": {},
   "outputs": [],
   "source": [
    "program = pd.DataFrame()\n",
    "\n",
    "for prog in progs_df.index:\n",
    "    indices = []\n",
    "    for i in range(df.shape[0]):\n",
    "        if prog in df.loc[i,'Prog_Languages']:\n",
    "            indices.append(i)\n",
    "    program[prog] = df.iloc[indices].avg_salaries"
   ]
  },
  {
   "cell_type": "code",
   "execution_count": 47,
   "id": "9182f78b",
   "metadata": {},
   "outputs": [
    {
     "data": {
      "image/png": "[encoded data removed]",
      "text/plain": [
       "<Figure size 1080x576 with 1 Axes>"
      ]
     },
     "metadata": {},
     "output_type": "display_data"
    }
   ],
   "source": [
    "sns.set(rc = {'figure.figsize':(15,8)})\n",
    "ax = sns.boxplot(data=program)"
   ]
  },
  {
   "cell_type": "code",
   "execution_count": null,
   "id": "eb1f2cd8",
   "metadata": {},
   "outputs": [],
   "source": []
  },
  {
   "cell_type": "code",
   "execution_count": 48,
   "id": "fa7efcc8",
   "metadata": {},
   "outputs": [],
   "source": [
    "title_df = pd.DataFrame()\n",
    "\n",
    "for titl in salaries_df.index:\n",
    "    indices = []\n",
    "    for i in range(df.shape[0]):\n",
    "        if titl in df.loc[i,'Job_red']:\n",
    "            indices.append(i)\n",
    "    title_df[titl] = df.iloc[indices].avg_salaries"
   ]
  },
  {
   "cell_type": "code",
   "execution_count": 49,
   "id": "a27bbaca",
   "metadata": {},
   "outputs": [
    {
     "data": {
      "image/png": "[encoded data removed]",
      "text/plain": [
       "<Figure size 1440x720 with 1 Axes>"
      ]
     },
     "metadata": {},
     "output_type": "display_data"
    }
   ],
   "source": [
    "sns.set(rc = {'figure.figsize':(20,10)})\n",
    "ax = sns.boxplot(data=title_df)"
   ]
  },
  {
   "cell_type": "code",
   "execution_count": 50,
   "id": "f3b76a72",
   "metadata": {},
   "outputs": [],
   "source": [
    "new_prog_df = pd.DataFrame(index = range(df.shape[0]),columns = progs_df.index).fillna(0)\n",
    "\n",
    "for i in range(df.shape[0]):\n",
    "    for prog in df.loc[i, 'Prog_Languages']:\n",
    "        if prog in new_prog_df.columns:\n",
    "            new_prog_df.loc[i, prog] = new_prog_df.loc[i, prog] + 1\n",
    "        "
   ]
  },
  {
   "cell_type": "code",
   "execution_count": 51,
   "id": "5fdfe602",
   "metadata": {},
   "outputs": [],
   "source": [
    "new_prog_df['avg_salaries'] = df['avg_salaries']\n",
    "new_prog_df['salary_label'] = df['salary_classes']"
   ]
  },
  {
   "cell_type": "code",
   "execution_count": 52,
   "id": "fcd4dc61",
   "metadata": {},
   "outputs": [],
   "source": [
    "for i in range(new_prog_df.shape[0]):\n",
    "    if new_prog_df.loc[i,'avg_salaries'] > 105:\n",
    "        new_prog_df.loc[i,'salary_label'] = 1\n",
    "    else:\n",
    "        new_prog_df.loc[i,'salary_label'] = 0"
   ]
  },
  {
   "cell_type": "code",
   "execution_count": 53,
   "id": "88cfff6a",
   "metadata": {},
   "outputs": [],
   "source": [
    "X = new_prog_df.drop(columns = ['avg_salaries', 'salary_label'])\n",
    "y = new_prog_df['salary_label']"
   ]
  },
  {
   "cell_type": "code",
   "execution_count": 54,
   "id": "13823a1f",
   "metadata": {},
   "outputs": [],
   "source": [
    "new_title_df = pd.DataFrame(index = range(df.shape[0]),columns = title_df.columns).fillna(0)\n",
    "\n",
    "for i in range(df.shape[0]):\n",
    "    for t in df.loc[i, 'Job_red']:\n",
    "        if t in new_title_df.columns:\n",
    "            new_title_df.loc[i, t] = new_title_df.loc[i, t] + 1"
   ]
  },
  {
   "cell_type": "code",
   "execution_count": 55,
   "id": "4cd00884",
   "metadata": {},
   "outputs": [],
   "source": [
    "new_title_df['avg_salaries'] = df['avg_salaries']\n",
    "new_title_df['salary_label'] = df['salary_classes']"
   ]
  },
  {
   "cell_type": "code",
   "execution_count": 56,
   "id": "96365496",
   "metadata": {},
   "outputs": [],
   "source": [
    "for i in range(new_title_df.shape[0]):\n",
    "    if new_title_df.loc[i,'avg_salaries'] > 105:\n",
    "        new_title_df.loc[i,'salary_label'] = 1\n",
    "    else:\n",
    "        new_title_df.loc[i,'salary_label'] = 0"
   ]
  },
  {
   "cell_type": "code",
   "execution_count": 57,
   "id": "c3618f0c",
   "metadata": {},
   "outputs": [],
   "source": [
    "X = new_title_df.drop(columns = ['avg_salaries', 'salary_label'])\n",
    "X = X.loc[:,'data':'machine']\n",
    "y = new_title_df['salary_label']"
   ]
  },
  {
   "cell_type": "code",
   "execution_count": 94,
   "id": "81fa565e",
   "metadata": {},
   "outputs": [],
   "source": [
    "def get_score(model, X_train, X_test, Y_train, Y_test):\n",
    "    model.fit(X_train,Y_train)\n",
    "    return model.score(X_test, Y_test)"
   ]
  },
  {
   "cell_type": "markdown",
   "id": "846adec9",
   "metadata": {},
   "source": [
    "<font size=\"6\">Programming Languages</font>"
   ]
  },
  {
   "cell_type": "code",
   "execution_count": 95,
   "id": "64af6c84",
   "metadata": {},
   "outputs": [
    {
     "name": "stderr",
     "output_type": "stream",
     "text": [
      "C:\\Users\\Keyon\\anaconda3\\lib\\site-packages\\sklearn\\utils\\deprecation.py:87: FutureWarning: Function get_feature_names is deprecated; get_feature_names is deprecated in 1.0 and will be removed in 1.2. Please use get_feature_names_out instead.\n",
      "  warnings.warn(msg, category=FutureWarning)\n"
     ]
    }
   ],
   "source": [
    "cross_vals = []\n",
    "vectorizer = TfidfVectorizer()\n",
    "txt_list = [\" \".join(txt) for txt in df['Prog_Languages']]\n",
    "Y = new_prog_df['salary_label']\n",
    "\n",
    "\n",
    "X_train, X_test, Y_train, Y_test = train_test_split(txt_list, Y, stratify=Y, test_size= 0.3, shuffle=True, random_state=42)\n",
    "\n",
    "vectors = vectorizer.fit_transform(X_train)\n",
    "feature_names = vectorizer.get_feature_names()\n",
    "dense = vectors.todense()\n",
    "denselist = dense.tolist()\n",
    "df_train = pd.DataFrame(denselist, columns=feature_names)\n",
    "\n",
    "vectors = vectorizer.transform(X_test)\n",
    "feature_names = vectorizer.get_feature_names()\n",
    "dense = vectors.todense()\n",
    "denselist = dense.tolist()\n",
    "df_test = pd.DataFrame(denselist, columns=feature_names)\n",
    "\n",
    "df_train['salary_label']  = Y_train.reset_index(drop=True)\n",
    "df_test['salary_label'] = Y_test.reset_index(drop=True)\n",
    "\n",
    "x_train = df_train.drop(columns = ['salary_label'])\n",
    "y_train = df_train['salary_label']\n",
    "\n",
    "x_test = df_test.drop(columns = ['salary_label'])\n",
    "y_test = df_test['salary_label']\n",
    "\n",
    "cross_vals.append(cross_val_score(LogisticRegression(),vectorizer.transform(txt_list), Y, cv=3))\n",
    "cross_vals.append(cross_val_score(svm.SVC(),vectorizer.transform(txt_list), Y, cv=3))\n"
   ]
  },
  {
   "cell_type": "code",
   "execution_count": 96,
   "id": "0e2f604c",
   "metadata": {},
   "outputs": [
    {
     "data": {
      "text/plain": [
       "[array([0.57407407, 0.51774691, 0.55246914]),\n",
       " array([0.57407407, 0.51466049, 0.59722222])]"
      ]
     },
     "execution_count": 96,
     "metadata": {},
     "output_type": "execute_result"
    }
   ],
   "source": [
    "cross_vals"
   ]
  },
  {
   "cell_type": "code",
   "execution_count": 97,
   "id": "bc584eb3",
   "metadata": {},
   "outputs": [
    {
     "data": {
      "text/plain": [
       "<AxesSubplot:>"
      ]
     },
     "execution_count": 97,
     "metadata": {},
     "output_type": "execute_result"
    },
    {
     "data": {
      "image/png": "[encoded data removed]",
      "text/plain": [
       "<Figure size 576x360 with 2 Axes>"
      ]
     },
     "metadata": {},
     "output_type": "display_data"
    }
   ],
   "source": [
    "log_reg = LogisticRegression()\n",
    "log_reg.fit(x_train, y_train)\n",
    "y_pred = log_reg.predict(x_test)\n",
    "\n",
    "cm = confusion_matrix(y_test, y_pred)\n",
    "rcParams['figure.figsize'] = 8,5\n",
    "sns.heatmap(cm,annot=True,fmt='g')"
   ]
  },
  {
   "cell_type": "code",
   "execution_count": 98,
   "id": "ce31a6ea",
   "metadata": {},
   "outputs": [
    {
     "data": {
      "text/plain": [
       "0.5621251071122536"
      ]
     },
     "execution_count": 98,
     "metadata": {},
     "output_type": "execute_result"
    }
   ],
   "source": [
    "(cm[0][0] + cm[1][1])/len(y_pred)"
   ]
  },
  {
   "cell_type": "code",
   "execution_count": 99,
   "id": "27b7819d",
   "metadata": {},
   "outputs": [
    {
     "data": {
      "text/plain": [
       "<AxesSubplot:>"
      ]
     },
     "execution_count": 99,
     "metadata": {},
     "output_type": "execute_result"
    },
    {
     "data": {
      "image/png": "[encoded data removed]",
      "text/plain": [
       "<Figure size 576x360 with 2 Axes>"
      ]
     },
     "metadata": {},
     "output_type": "display_data"
    }
   ],
   "source": [
    "clf = svm.SVC()\n",
    "clf.fit(x_train, y_train)\n",
    "y_pred = clf.predict(x_test)\n",
    "\n",
    "cm = confusion_matrix(y_test, y_pred)\n",
    "rcParams['figure.figsize'] = 8,5\n",
    "sns.heatmap(cm,annot=True,fmt='g')"
   ]
  },
  {
   "cell_type": "code",
   "execution_count": 100,
   "id": "a134492f",
   "metadata": {},
   "outputs": [
    {
     "data": {
      "text/plain": [
       "0.5621251071122536"
      ]
     },
     "execution_count": 100,
     "metadata": {},
     "output_type": "execute_result"
    }
   ],
   "source": [
    "(cm[0][0] + cm[1][1])/len(y_pred)"
   ]
  },
  {
   "cell_type": "code",
   "execution_count": 101,
   "id": "ca8ff63a",
   "metadata": {},
   "outputs": [
    {
     "data": {
      "text/plain": [
       "<AxesSubplot:>"
      ]
     },
     "execution_count": 101,
     "metadata": {},
     "output_type": "execute_result"
    },
    {
     "data": {
      "image/png": "[encoded data removed]",
      "text/plain": [
       "<Figure size 576x360 with 2 Axes>"
      ]
     },
     "metadata": {},
     "output_type": "display_data"
    }
   ],
   "source": [
    "gnb = GaussianNB()\n",
    "gnb.fit(x_train, y_train)\n",
    "y_pred = gnb.predict(x_test)\n",
    "cm = confusion_matrix(y_test, y_pred)\n",
    "rcParams['figure.figsize'] = 8,5\n",
    "sns.heatmap(cm,annot=True,fmt='g')"
   ]
  },
  {
   "cell_type": "code",
   "execution_count": 102,
   "id": "9896aa20",
   "metadata": {},
   "outputs": [
    {
     "data": {
      "text/plain": [
       "0.5004284490145673"
      ]
     },
     "execution_count": 102,
     "metadata": {},
     "output_type": "execute_result"
    }
   ],
   "source": [
    "(cm[0][0] + cm[1][1])/len(y_pred)"
   ]
  },
  {
   "cell_type": "code",
   "execution_count": 103,
   "id": "f23a2d0c",
   "metadata": {},
   "outputs": [
    {
     "name": "stderr",
     "output_type": "stream",
     "text": [
      "C:\\Users\\Keyon\\anaconda3\\lib\\site-packages\\sklearn\\utils\\deprecation.py:87: FutureWarning: Function plot_precision_recall_curve is deprecated; Function `plot_precision_recall_curve` is deprecated in 1.0 and will be removed in 1.2. Use one of the class methods: PrecisionRecallDisplay.from_predictions or PrecisionRecallDisplay.from_estimator.\n",
      "  warnings.warn(msg, category=FutureWarning)\n",
      "C:\\Users\\Keyon\\anaconda3\\lib\\site-packages\\sklearn\\utils\\deprecation.py:87: FutureWarning: Function plot_precision_recall_curve is deprecated; Function `plot_precision_recall_curve` is deprecated in 1.0 and will be removed in 1.2. Use one of the class methods: PrecisionRecallDisplay.from_predictions or PrecisionRecallDisplay.from_estimator.\n",
      "  warnings.warn(msg, category=FutureWarning)\n",
      "C:\\Users\\Keyon\\anaconda3\\lib\\site-packages\\sklearn\\utils\\deprecation.py:87: FutureWarning: Function plot_precision_recall_curve is deprecated; Function `plot_precision_recall_curve` is deprecated in 1.0 and will be removed in 1.2. Use one of the class methods: PrecisionRecallDisplay.from_predictions or PrecisionRecallDisplay.from_estimator.\n",
      "  warnings.warn(msg, category=FutureWarning)\n"
     ]
    },
    {
     "data": {
      "text/plain": [
       "<matplotlib.legend.Legend at 0x2e6b27b14c0>"
      ]
     },
     "execution_count": 103,
     "metadata": {},
     "output_type": "execute_result"
    },
    {
     "data": {
      "image/png": "[encoded data removed]",
      "text/plain": [
       "<Figure size 576x360 with 1 Axes>"
      ]
     },
     "metadata": {},
     "output_type": "display_data"
    }
   ],
   "source": [
    "plot_precision_recall_curve(log_reg, x_test, y_test, ax = plt.gca(),name = \"Logistic\")\n",
    "\n",
    "plot_precision_recall_curve(clf, x_test, y_test, ax = plt.gca(),name = \"SVM\")\n",
    "\n",
    "plot_precision_recall_curve(gnb, x_test, y_test, ax = plt.gca(),name = \"GaussianNB\")\n",
    "\n",
    "plt.title('Precision-Recall curve')\n",
    "plt.legend(loc='upper right')"
   ]
  },
  {
   "cell_type": "markdown",
   "id": "94482367",
   "metadata": {},
   "source": [
    "<font size=\"6\">Job Titles</font>"
   ]
  },
  {
   "cell_type": "code",
   "execution_count": 104,
   "id": "d2aac180",
   "metadata": {},
   "outputs": [
    {
     "name": "stderr",
     "output_type": "stream",
     "text": [
      "C:\\Users\\Keyon\\anaconda3\\lib\\site-packages\\sklearn\\utils\\deprecation.py:87: FutureWarning: Function get_feature_names is deprecated; get_feature_names is deprecated in 1.0 and will be removed in 1.2. Please use get_feature_names_out instead.\n",
      "  warnings.warn(msg, category=FutureWarning)\n"
     ]
    }
   ],
   "source": [
    "cross_vals = []\n",
    "vectorizer = TfidfVectorizer()\n",
    "job_title = [\" \".join(txt) for txt in df['Job_red']]\n",
    "Y = new_prog_df['salary_label']\n",
    "\n",
    "X_train, X_test, Y_train, Y_test = train_test_split(job_title, Y, stratify=Y, test_size= 0.3, shuffle=True, random_state=42)\n",
    "\n",
    "vectors = vectorizer.fit_transform(X_train)\n",
    "feature_names = vectorizer.get_feature_names()\n",
    "dense = vectors.todense()\n",
    "denselist = dense.tolist()\n",
    "df_train = pd.DataFrame(denselist, columns=feature_names)\n",
    "\n",
    "vectors = vectorizer.transform(X_test)\n",
    "feature_names = vectorizer.get_feature_names()\n",
    "dense = vectors.todense()\n",
    "denselist = dense.tolist()\n",
    "df_test = pd.DataFrame(denselist, columns=feature_names)\n",
    "\n",
    "df_train['salary_label']  = Y_train.reset_index(drop=True)\n",
    "df_test['salary_label'] = Y_test.reset_index(drop=True)\n",
    "\n",
    "x_train = df_train.drop(columns = ['salary_label'])\n",
    "y_train = df_train['salary_label']\n",
    "\n",
    "x_test = df_test.drop(columns = ['salary_label'])\n",
    "y_test = df_test['salary_label']\n",
    "\n",
    "cross_vals.append(cross_val_score(LogisticRegression(),vectorizer.transform(job_title), Y, cv=3))\n",
    "cross_vals.append(cross_val_score(svm.SVC(),vectorizer.transform(job_title), Y, cv=3))"
   ]
  },
  {
   "cell_type": "code",
   "execution_count": 105,
   "id": "82708e9f",
   "metadata": {},
   "outputs": [
    {
     "data": {
      "text/plain": [
       "[array([0.58256173, 0.51234568, 0.56018519]),\n",
       " array([0.57638889, 0.50617284, 0.57021605])]"
      ]
     },
     "execution_count": 105,
     "metadata": {},
     "output_type": "execute_result"
    }
   ],
   "source": [
    "cross_vals"
   ]
  },
  {
   "cell_type": "code",
   "execution_count": 106,
   "id": "1e9e8555",
   "metadata": {},
   "outputs": [
    {
     "data": {
      "text/plain": [
       "<AxesSubplot:>"
      ]
     },
     "execution_count": 106,
     "metadata": {},
     "output_type": "execute_result"
    },
    {
     "data": {
      "image/png": "[encoded data removed]",
      "text/plain": [
       "<Figure size 576x360 with 2 Axes>"
      ]
     },
     "metadata": {},
     "output_type": "display_data"
    }
   ],
   "source": [
    "log_reg = LogisticRegression()\n",
    "log_reg.fit(x_train, y_train)\n",
    "y_pred = log_reg.predict(x_test)\n",
    "\n",
    "cm = confusion_matrix(y_test, y_pred)\n",
    "rcParams['figure.figsize'] = 8,5\n",
    "sns.heatmap(cm,annot=True,fmt='g')"
   ]
  },
  {
   "cell_type": "code",
   "execution_count": 107,
   "id": "27b745bc",
   "metadata": {},
   "outputs": [
    {
     "data": {
      "text/plain": [
       "0.5955441302485004"
      ]
     },
     "execution_count": 107,
     "metadata": {},
     "output_type": "execute_result"
    }
   ],
   "source": [
    "(cm[0][0] + cm[1][1])/len(y_pred)"
   ]
  },
  {
   "cell_type": "code",
   "execution_count": 108,
   "id": "397a0442",
   "metadata": {},
   "outputs": [
    {
     "data": {
      "text/plain": [
       "<AxesSubplot:>"
      ]
     },
     "execution_count": 108,
     "metadata": {},
     "output_type": "execute_result"
    },
    {
     "data": {
      "image/png": "[encoded data removed]",
      "text/plain": [
       "<Figure size 576x360 with 2 Axes>"
      ]
     },
     "metadata": {},
     "output_type": "display_data"
    }
   ],
   "source": [
    "clf = svm.SVC(probability=True)\n",
    "clf.fit(x_train, y_train)\n",
    "y_pred = clf.predict(x_test)\n",
    "\n",
    "cm = confusion_matrix(y_test, y_pred)\n",
    "rcParams['figure.figsize'] = 8,5\n",
    "sns.heatmap(cm,annot=True,fmt='g')"
   ]
  },
  {
   "cell_type": "markdown",
   "id": "034f6b6d",
   "metadata": {},
   "source": []
  },
  {
   "cell_type": "code",
   "execution_count": 109,
   "id": "72a9ac6b",
   "metadata": {},
   "outputs": [
    {
     "data": {
      "text/plain": [
       "0.5946872322193659"
      ]
     },
     "execution_count": 109,
     "metadata": {},
     "output_type": "execute_result"
    }
   ],
   "source": [
    "(cm[0][0] + cm[1][1])/len(y_pred)"
   ]
  },
  {
   "cell_type": "code",
   "execution_count": 110,
   "id": "180084e8",
   "metadata": {},
   "outputs": [
    {
     "data": {
      "text/plain": [
       "<AxesSubplot:>"
      ]
     },
     "execution_count": 110,
     "metadata": {},
     "output_type": "execute_result"
    },
    {
     "data": {
      "image/png": "[encoded data removed]",
      "text/plain": [
       "<Figure size 576x360 with 2 Axes>"
      ]
     },
     "metadata": {},
     "output_type": "display_data"
    }
   ],
   "source": [
    "gnb = GaussianNB()\n",
    "gnb.fit(x_train, y_train)\n",
    "y_pred = gnb.predict(x_test)\n",
    "cm = confusion_matrix(y_test, y_pred)\n",
    "rcParams['figure.figsize'] = 8,5\n",
    "sns.heatmap(cm,annot=True,fmt='g')"
   ]
  },
  {
   "cell_type": "code",
   "execution_count": 111,
   "id": "72d6ef09",
   "metadata": {},
   "outputs": [
    {
     "data": {
      "text/plain": [
       "0.5167095115681234"
      ]
     },
     "execution_count": 111,
     "metadata": {},
     "output_type": "execute_result"
    }
   ],
   "source": [
    "(cm[0][0] + cm[1][1])/len(y_pred)"
   ]
  },
  {
   "cell_type": "code",
   "execution_count": 112,
   "id": "cb132846",
   "metadata": {},
   "outputs": [
    {
     "name": "stderr",
     "output_type": "stream",
     "text": [
      "C:\\Users\\Keyon\\anaconda3\\lib\\site-packages\\sklearn\\utils\\deprecation.py:87: FutureWarning: Function plot_precision_recall_curve is deprecated; Function `plot_precision_recall_curve` is deprecated in 1.0 and will be removed in 1.2. Use one of the class methods: PrecisionRecallDisplay.from_predictions or PrecisionRecallDisplay.from_estimator.\n",
      "  warnings.warn(msg, category=FutureWarning)\n",
      "C:\\Users\\Keyon\\anaconda3\\lib\\site-packages\\sklearn\\utils\\deprecation.py:87: FutureWarning: Function plot_precision_recall_curve is deprecated; Function `plot_precision_recall_curve` is deprecated in 1.0 and will be removed in 1.2. Use one of the class methods: PrecisionRecallDisplay.from_predictions or PrecisionRecallDisplay.from_estimator.\n",
      "  warnings.warn(msg, category=FutureWarning)\n",
      "C:\\Users\\Keyon\\anaconda3\\lib\\site-packages\\sklearn\\utils\\deprecation.py:87: FutureWarning: Function plot_precision_recall_curve is deprecated; Function `plot_precision_recall_curve` is deprecated in 1.0 and will be removed in 1.2. Use one of the class methods: PrecisionRecallDisplay.from_predictions or PrecisionRecallDisplay.from_estimator.\n",
      "  warnings.warn(msg, category=FutureWarning)\n"
     ]
    },
    {
     "data": {
      "text/plain": [
       "<matplotlib.legend.Legend at 0x2e64751fc40>"
      ]
     },
     "execution_count": 112,
     "metadata": {},
     "output_type": "execute_result"
    },
    {
     "data": {
      "image/png": "[encoded data removed]",
      "text/plain": [
       "<Figure size 576x360 with 1 Axes>"
      ]
     },
     "metadata": {},
     "output_type": "display_data"
    }
   ],
   "source": [
    "plot_precision_recall_curve(log_reg, x_test, y_test, ax = plt.gca(),name = \"Logistic\")\n",
    "\n",
    "plot_precision_recall_curve(clf, x_test, y_test, ax = plt.gca(),name = \"SVM\")\n",
    "\n",
    "plot_precision_recall_curve(gnb, x_test, y_test, ax = plt.gca(),name = \"GaussianNB\")\n",
    "\n",
    "plt.title('Precision-Recall curve')\n",
    "plt.legend(loc='upper right')"
   ]
  },
  {
   "cell_type": "markdown",
   "id": "4acdf5fb",
   "metadata": {},
   "source": [
    "<font size=\"6\">Overall Text</font>"
   ]
  },
  {
   "cell_type": "code",
   "execution_count": 135,
   "id": "1233428c",
   "metadata": {},
   "outputs": [
    {
     "name": "stderr",
     "output_type": "stream",
     "text": [
      "C:\\Users\\Keyon\\anaconda3\\lib\\site-packages\\sklearn\\utils\\deprecation.py:87: FutureWarning: Function get_feature_names is deprecated; get_feature_names is deprecated in 1.0 and will be removed in 1.2. Please use get_feature_names_out instead.\n",
      "  warnings.warn(msg, category=FutureWarning)\n"
     ]
    }
   ],
   "source": [
    "cross_vals = []\n",
    "vectorizer = TfidfVectorizer()\n",
    "texts = [\" \".join(txt) for txt in df['Text_red']]\n",
    "Y = new_prog_df['salary_label']\n",
    "\n",
    "X_train, X_test, Y_train, Y_test = train_test_split(texts, Y, stratify=Y, test_size= 0.3, shuffle=True, random_state=42)\n",
    "\n",
    "vectors = vectorizer.fit_transform(X_train)\n",
    "feature_names = vectorizer.get_feature_names()\n",
    "dense = vectors.todense()\n",
    "denselist = dense.tolist()\n",
    "df_train = pd.DataFrame(denselist, columns=feature_names)\n",
    "\n",
    "vectors = vectorizer.transform(X_test)\n",
    "feature_names = vectorizer.get_feature_names()\n",
    "dense = vectors.todense()\n",
    "denselist = dense.tolist()\n",
    "df_test = pd.DataFrame(denselist, columns=feature_names)\n",
    "\n",
    "df_train['salary_label']  = Y_train.reset_index(drop=True)\n",
    "df_test['salary_label'] = Y_test.reset_index(drop=True)\n",
    "\n",
    "x_train = df_train.drop(columns = ['salary_label'])\n",
    "y_train = df_train['salary_label']\n",
    "\n",
    "x_test = df_test.drop(columns = ['salary_label'])\n",
    "y_test = df_test['salary_label']\n",
    "\n",
    "cross_vals.append(cross_val_score(LogisticRegression(),vectorizer.transform(texts), Y, cv=3))\n",
    "cross_vals.append(cross_val_score(svm.SVC(),vectorizer.transform(texts), Y, cv=3))"
   ]
  },
  {
   "cell_type": "code",
   "execution_count": 114,
   "id": "2c8ce1cf",
   "metadata": {},
   "outputs": [
    {
     "data": {
      "text/plain": [
       "[array([0.57947531, 0.51774691, 0.61651235]),\n",
       " array([0.57561728, 0.51388889, 0.62885802])]"
      ]
     },
     "execution_count": 114,
     "metadata": {},
     "output_type": "execute_result"
    }
   ],
   "source": [
    "cross_vals"
   ]
  },
  {
   "cell_type": "code",
   "execution_count": 115,
   "id": "822e9641",
   "metadata": {},
   "outputs": [
    {
     "data": {
      "text/plain": [
       "<AxesSubplot:>"
      ]
     },
     "execution_count": 115,
     "metadata": {},
     "output_type": "execute_result"
    },
    {
     "data": {
      "image/png": "[encoded data removed]",
      "text/plain": [
       "<Figure size 576x360 with 2 Axes>"
      ]
     },
     "metadata": {},
     "output_type": "display_data"
    }
   ],
   "source": [
    "log_reg = LogisticRegression()\n",
    "log_reg.fit(x_train, y_train)\n",
    "y_pred = log_reg.predict(x_test)\n",
    "\n",
    "cm = confusion_matrix(y_test, y_pred)\n",
    "rcParams['figure.figsize'] = 8,5\n",
    "sns.heatmap(cm,annot=True,fmt='g')"
   ]
  },
  {
   "cell_type": "code",
   "execution_count": 116,
   "id": "1117f337",
   "metadata": {},
   "outputs": [
    {
     "data": {
      "text/plain": [
       "0.6143958868894601"
      ]
     },
     "execution_count": 116,
     "metadata": {},
     "output_type": "execute_result"
    }
   ],
   "source": [
    "(cm[0][0] + cm[1][1])/len(y_pred)"
   ]
  },
  {
   "cell_type": "code",
   "execution_count": 117,
   "id": "959019b9",
   "metadata": {},
   "outputs": [
    {
     "data": {
      "text/plain": [
       "<AxesSubplot:>"
      ]
     },
     "execution_count": 117,
     "metadata": {},
     "output_type": "execute_result"
    },
    {
     "data": {
      "image/png": "[encoded data removed]",
      "text/plain": [
       "<Figure size 576x360 with 2 Axes>"
      ]
     },
     "metadata": {},
     "output_type": "display_data"
    }
   ],
   "source": [
    "clf = svm.SVC(probability=True)\n",
    "clf.fit(x_train, y_train)\n",
    "y_pred = clf.predict(x_test)\n",
    "\n",
    "cm = confusion_matrix(y_test, y_pred)\n",
    "rcParams['figure.figsize'] = 8,5\n",
    "sns.heatmap(cm,annot=True,fmt='g')"
   ]
  },
  {
   "cell_type": "code",
   "execution_count": 118,
   "id": "9895e2da",
   "metadata": {},
   "outputs": [
    {
     "data": {
      "text/plain": [
       "0.6289631533847472"
      ]
     },
     "execution_count": 118,
     "metadata": {},
     "output_type": "execute_result"
    }
   ],
   "source": [
    "(cm[0][0] + cm[1][1])/len(y_pred)"
   ]
  },
  {
   "cell_type": "code",
   "execution_count": 119,
   "id": "90d8c3df",
   "metadata": {},
   "outputs": [
    {
     "data": {
      "text/plain": [
       "<AxesSubplot:>"
      ]
     },
     "execution_count": 119,
     "metadata": {},
     "output_type": "execute_result"
    },
    {
     "data": {
      "image/png": "[encoded data removed]",
      "text/plain": [
       "<Figure size 576x360 with 2 Axes>"
      ]
     },
     "metadata": {},
     "output_type": "display_data"
    }
   ],
   "source": [
    "gnb = GaussianNB()\n",
    "gnb.fit(x_train, y_train)\n",
    "y_pred = gnb.predict(x_test)\n",
    "cm = confusion_matrix(y_test, y_pred)\n",
    "rcParams['figure.figsize'] = 8,5\n",
    "sns.heatmap(cm,annot=True,fmt='g')"
   ]
  },
  {
   "cell_type": "code",
   "execution_count": 120,
   "id": "fca969c5",
   "metadata": {},
   "outputs": [
    {
     "data": {
      "text/plain": [
       "0.5758354755784062"
      ]
     },
     "execution_count": 120,
     "metadata": {},
     "output_type": "execute_result"
    }
   ],
   "source": [
    "(cm[0][0] + cm[1][1])/len(y_pred)"
   ]
  },
  {
   "cell_type": "code",
   "execution_count": 121,
   "id": "7957168b",
   "metadata": {},
   "outputs": [
    {
     "name": "stderr",
     "output_type": "stream",
     "text": [
      "C:\\Users\\Keyon\\anaconda3\\lib\\site-packages\\sklearn\\utils\\deprecation.py:87: FutureWarning: Function plot_precision_recall_curve is deprecated; Function `plot_precision_recall_curve` is deprecated in 1.0 and will be removed in 1.2. Use one of the class methods: PrecisionRecallDisplay.from_predictions or PrecisionRecallDisplay.from_estimator.\n",
      "  warnings.warn(msg, category=FutureWarning)\n",
      "C:\\Users\\Keyon\\anaconda3\\lib\\site-packages\\sklearn\\utils\\deprecation.py:87: FutureWarning: Function plot_precision_recall_curve is deprecated; Function `plot_precision_recall_curve` is deprecated in 1.0 and will be removed in 1.2. Use one of the class methods: PrecisionRecallDisplay.from_predictions or PrecisionRecallDisplay.from_estimator.\n",
      "  warnings.warn(msg, category=FutureWarning)\n",
      "C:\\Users\\Keyon\\anaconda3\\lib\\site-packages\\sklearn\\utils\\deprecation.py:87: FutureWarning: Function plot_precision_recall_curve is deprecated; Function `plot_precision_recall_curve` is deprecated in 1.0 and will be removed in 1.2. Use one of the class methods: PrecisionRecallDisplay.from_predictions or PrecisionRecallDisplay.from_estimator.\n",
      "  warnings.warn(msg, category=FutureWarning)\n"
     ]
    },
    {
     "data": {
      "text/plain": [
       "<matplotlib.legend.Legend at 0x2e64cc28100>"
      ]
     },
     "execution_count": 121,
     "metadata": {},
     "output_type": "execute_result"
    },
    {
     "data": {
      "image/png": "[encoded data removed]",
      "text/plain": [
       "<Figure size 576x360 with 1 Axes>"
      ]
     },
     "metadata": {},
     "output_type": "display_data"
    }
   ],
   "source": [
    "plot_precision_recall_curve(log_reg, x_test, y_test, ax = plt.gca(),name = \"Logistic\")\n",
    "\n",
    "plot_precision_recall_curve(clf, x_test, y_test, ax = plt.gca(),name = \"SVM\")\n",
    "\n",
    "plot_precision_recall_curve(gnb, x_test, y_test, ax = plt.gca(),name = \"GaussianNB\")\n",
    "\n",
    "plt.title('Precision-Recall curve')\n",
    "plt.legend(loc='upper right')"
   ]
  },
  {
   "cell_type": "markdown",
   "id": "e9ac2657",
   "metadata": {},
   "source": [
    "<font size=\"6\">Location and Sector</font>"
   ]
  },
  {
   "cell_type": "code",
   "execution_count": 122,
   "id": "c6ca4eb9",
   "metadata": {},
   "outputs": [
    {
     "name": "stderr",
     "output_type": "stream",
     "text": [
      "C:\\Users\\Keyon\\anaconda3\\lib\\site-packages\\sklearn\\utils\\deprecation.py:87: FutureWarning: Function get_feature_names is deprecated; get_feature_names is deprecated in 1.0 and will be removed in 1.2. Please use get_feature_names_out instead.\n",
      "  warnings.warn(msg, category=FutureWarning)\n"
     ]
    }
   ],
   "source": [
    "vectorizer = TfidfVectorizer()\n",
    "texts = [\" \".join(txt) for txt in df['loc_sec']]\n",
    "Y = new_prog_df['salary_label']\n",
    "\n",
    "X_train, X_test, Y_train, Y_test = train_test_split(texts, Y, stratify=Y, test_size= 0.3, shuffle=True, random_state=42)\n",
    "\n",
    "vectors = vectorizer.fit_transform(X_train)\n",
    "feature_names = vectorizer.get_feature_names()\n",
    "dense = vectors.todense()\n",
    "denselist = dense.tolist()\n",
    "df_train = pd.DataFrame(denselist, columns=feature_names)\n",
    "\n",
    "vectors = vectorizer.transform(X_test)\n",
    "feature_names = vectorizer.get_feature_names()\n",
    "dense = vectors.todense()\n",
    "denselist = dense.tolist()\n",
    "df_test = pd.DataFrame(denselist, columns=feature_names)\n",
    "\n",
    "df_train['salary_label']  = Y_train.reset_index(drop=True)\n",
    "df_test['salary_label'] = Y_test.reset_index(drop=True)\n",
    "\n",
    "x_train = df_train.drop(columns = ['salary_label'])\n",
    "y_train = df_train['salary_label']\n",
    "\n",
    "x_test = df_test.drop(columns = ['salary_label'])\n",
    "y_test = df_test['salary_label']\n"
   ]
  },
  {
   "cell_type": "code",
   "execution_count": 123,
   "id": "ed690323",
   "metadata": {},
   "outputs": [
    {
     "data": {
      "text/plain": [
       "<AxesSubplot:>"
      ]
     },
     "execution_count": 123,
     "metadata": {},
     "output_type": "execute_result"
    },
    {
     "data": {
      "image/png": "[encoded data removed]",
      "text/plain": [
       "<Figure size 576x360 with 2 Axes>"
      ]
     },
     "metadata": {},
     "output_type": "display_data"
    }
   ],
   "source": [
    "log_reg = LogisticRegression()\n",
    "log_reg.fit(x_train, y_train)\n",
    "y_pred = log_reg.predict(x_test)\n",
    "\n",
    "cm = confusion_matrix(y_test, y_pred)\n",
    "rcParams['figure.figsize'] = 8,5\n",
    "sns.heatmap(cm,annot=True,fmt='g')"
   ]
  },
  {
   "cell_type": "code",
   "execution_count": 124,
   "id": "88d991f5",
   "metadata": {},
   "outputs": [
    {
     "data": {
      "text/plain": [
       "0.7060839760068551"
      ]
     },
     "execution_count": 124,
     "metadata": {},
     "output_type": "execute_result"
    }
   ],
   "source": [
    "(cm[0][0] + cm[1][1])/len(y_pred)"
   ]
  },
  {
   "cell_type": "code",
   "execution_count": 125,
   "id": "87d52319",
   "metadata": {},
   "outputs": [
    {
     "data": {
      "text/plain": [
       "<AxesSubplot:>"
      ]
     },
     "execution_count": 125,
     "metadata": {},
     "output_type": "execute_result"
    },
    {
     "data": {
      "image/png": "[encoded data removed]",
      "text/plain": [
       "<Figure size 576x360 with 2 Axes>"
      ]
     },
     "metadata": {},
     "output_type": "display_data"
    }
   ],
   "source": [
    "clf = svm.SVC(probability=True)\n",
    "clf.fit(x_train, y_train)\n",
    "y_pred = clf.predict(x_test)\n",
    "\n",
    "cm = confusion_matrix(y_test, y_pred)\n",
    "rcParams['figure.figsize'] = 8,5\n",
    "sns.heatmap(cm,annot=True,fmt='g')"
   ]
  },
  {
   "cell_type": "code",
   "execution_count": 126,
   "id": "1ddee917",
   "metadata": {},
   "outputs": [
    {
     "data": {
      "text/plain": [
       "0.7052270779777207"
      ]
     },
     "execution_count": 126,
     "metadata": {},
     "output_type": "execute_result"
    }
   ],
   "source": [
    "(cm[0][0] + cm[1][1])/len(y_pred)"
   ]
  },
  {
   "cell_type": "code",
   "execution_count": 127,
   "id": "cc491c88",
   "metadata": {},
   "outputs": [
    {
     "data": {
      "text/plain": [
       "<AxesSubplot:>"
      ]
     },
     "execution_count": 127,
     "metadata": {},
     "output_type": "execute_result"
    },
    {
     "data": {
      "image/png": "[encoded data removed]",
      "text/plain": [
       "<Figure size 576x360 with 2 Axes>"
      ]
     },
     "metadata": {},
     "output_type": "display_data"
    }
   ],
   "source": [
    "gnb = GaussianNB()\n",
    "gnb.fit(x_train, y_train)\n",
    "y_pred = gnb.predict(x_test)\n",
    "cm = confusion_matrix(y_test, y_pred)\n",
    "rcParams['figure.figsize'] = 8,5\n",
    "sns.heatmap(cm,annot=True,fmt='g')"
   ]
  },
  {
   "cell_type": "code",
   "execution_count": 128,
   "id": "88a2f464",
   "metadata": {},
   "outputs": [
    {
     "data": {
      "text/plain": [
       "0.6580976863753213"
      ]
     },
     "execution_count": 128,
     "metadata": {},
     "output_type": "execute_result"
    }
   ],
   "source": [
    "(cm[0][0] + cm[1][1])/len(y_pred)"
   ]
  },
  {
   "cell_type": "code",
   "execution_count": 129,
   "id": "453dbb92",
   "metadata": {},
   "outputs": [
    {
     "name": "stderr",
     "output_type": "stream",
     "text": [
      "C:\\Users\\Keyon\\anaconda3\\lib\\site-packages\\sklearn\\utils\\deprecation.py:87: FutureWarning: Function plot_precision_recall_curve is deprecated; Function `plot_precision_recall_curve` is deprecated in 1.0 and will be removed in 1.2. Use one of the class methods: PrecisionRecallDisplay.from_predictions or PrecisionRecallDisplay.from_estimator.\n",
      "  warnings.warn(msg, category=FutureWarning)\n",
      "C:\\Users\\Keyon\\anaconda3\\lib\\site-packages\\sklearn\\utils\\deprecation.py:87: FutureWarning: Function plot_precision_recall_curve is deprecated; Function `plot_precision_recall_curve` is deprecated in 1.0 and will be removed in 1.2. Use one of the class methods: PrecisionRecallDisplay.from_predictions or PrecisionRecallDisplay.from_estimator.\n",
      "  warnings.warn(msg, category=FutureWarning)\n",
      "C:\\Users\\Keyon\\anaconda3\\lib\\site-packages\\sklearn\\utils\\deprecation.py:87: FutureWarning: Function plot_precision_recall_curve is deprecated; Function `plot_precision_recall_curve` is deprecated in 1.0 and will be removed in 1.2. Use one of the class methods: PrecisionRecallDisplay.from_predictions or PrecisionRecallDisplay.from_estimator.\n",
      "  warnings.warn(msg, category=FutureWarning)\n"
     ]
    },
    {
     "data": {
      "text/plain": [
       "<matplotlib.legend.Legend at 0x2e64cb8c9d0>"
      ]
     },
     "execution_count": 129,
     "metadata": {},
     "output_type": "execute_result"
    },
    {
     "data": {
      "image/png": "[encoded data removed]",
      "text/plain": [
       "<Figure size 576x360 with 1 Axes>"
      ]
     },
     "metadata": {},
     "output_type": "display_data"
    }
   ],
   "source": [
    "plot_precision_recall_curve(log_reg, x_test, y_test, ax = plt.gca(),name = \"Logistic\")\n",
    "\n",
    "plot_precision_recall_curve(clf, x_test, y_test, ax = plt.gca(),name = \"SVM\")\n",
    "\n",
    "plot_precision_recall_curve(gnb, x_test, y_test, ax = plt.gca(),name = \"GaussianNB\")\n",
    "\n",
    "plt.title('Precision-Recall curve')\n",
    "plt.legend(loc='upper right')\n"
   ]
  },
  {
   "cell_type": "code",
   "execution_count": null,
   "id": "d511ff11",
   "metadata": {},
   "outputs": [],
   "source": []
  }
 ],
 "metadata": {
  "kernelspec": {
   "display_name": "Python 3 (ipykernel)",
   "language": "python",
   "name": "python3"
  },
  "language_info": {
   "codemirror_mode": {
    "name": "ipython",
    "version": 3
   },
   "file_extension": ".py",
   "mimetype": "text/x-python",
   "name": "python",
   "nbconvert_exporter": "python",
   "pygments_lexer": "ipython3",
   "version": "3.9.7"
  }
 },
 "nbformat": 4,
 "nbformat_minor": 5
}
